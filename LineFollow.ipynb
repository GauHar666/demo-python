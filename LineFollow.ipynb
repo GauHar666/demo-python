{
 "cells": [
  {
   "cell_type": "code",
   "execution_count": 1,
   "id": "f7db7b65",
   "metadata": {},
   "outputs": [
    {
     "name": "stdout",
     "output_type": "stream",
     "text": [
      "pygame 2.0.1 (SDL 2.0.14, Python 3.8.1)\n",
      "Hello from the pygame community. https://www.pygame.org/contribute.html\n"
     ]
    }
   ],
   "source": [
    "import KeypressModule as kp\n",
    "from djitellopy import tello\n",
    "import cv2\n",
    "import time\n",
    "import threading\n",
    "import numpy as np"
   ]
  },
  {
   "cell_type": "code",
   "execution_count": 2,
   "id": "1dab50f6",
   "metadata": {},
   "outputs": [
    {
     "name": "stderr",
     "output_type": "stream",
     "text": [
      "[INFO] tello.py - 107 - Tello instance was initialized. Host: '192.168.10.1'. Port: '8889'.\n",
      "[INFO] tello.py - 422 - Send command: 'command'\n",
      "[INFO] tello.py - 446 - Response command: 'ok'\n",
      "[INFO] tello.py - 422 - Send command: 'streamon'\n",
      "[INFO] tello.py - 446 - Response streamon: 'ok'\n"
     ]
    },
    {
     "name": "stdout",
     "output_type": "stream",
     "text": [
      "55\n"
     ]
    }
   ],
   "source": [
    "kp.init()\n",
    "me = tello.Tello()\n",
    "me.connect()\n",
    "print(me.get_battery())\n",
    "me.streamon()"
   ]
  },
  {
   "cell_type": "code",
   "execution_count": 3,
   "id": "96373689",
   "metadata": {},
   "outputs": [],
   "source": [
    "global img\n",
    "\n",
    "def get_keyboard_input():\n",
    "\n",
    "    if kp.get_key('q'):\n",
    "        me.land()\n",
    "        time.sleep(3)\n",
    "    elif kp.get_key('e'):\n",
    "        me.takeoff()\n",
    "\n",
    "    elif kp.get_key('z'):\n",
    "        cv2.imwrite(f'Resources/Images/{time.time()}.jpg', img)\n",
    "        time.sleep(0.3)"
   ]
  },
  {
   "cell_type": "code",
   "execution_count": 4,
   "id": "3ec825ce",
   "metadata": {},
   "outputs": [],
   "source": [
    "hsvVals = [0, 0, 218, 179, 21, 255]\n",
    "sensors = 3\n",
    "threshold = 0.2\n",
    "width, height = 480, 360\n",
    "\n",
    "sensitivity = 3  # Less sensitive if number is high\n",
    "\n",
    "weights = [-50, -25, 0, 25, 50]\n",
    "\n",
    "fSpeed = 15\n",
    "curve = 0\n",
    "\n",
    "\n",
    "def thresholding(img):\n",
    "    hsv = cv2.cvtColor(img, cv2.COLOR_BGR2HSV)\n",
    "    lower = np.array([hsvVals[0], hsvVals[1], hsvVals[2]])\n",
    "    upper = np.array([hsvVals[3], hsvVals[4], hsvVals[5]])\n",
    "    mask = cv2.inRange(hsv, lower, upper)\n",
    "    return mask\n",
    "\n",
    "\n",
    "def getContours(imgThres, img):\n",
    "    contours, hierarchy = cv2.findContours(imgThres, cv2.RETR_EXTERNAL, cv2.CHAIN_APPROX_NONE)\n",
    "    if len(contours) != 0:\n",
    "        biggest = max(contours, key=cv2.contourArea)\n",
    "        x, y, w, h = cv2.boundingRect(biggest)\n",
    "        cx = x + w // 2\n",
    "        cy = y + h // 2\n",
    "\n",
    "        cv2.drawContours(img, biggest, -1, (255, 0, 255), 7)\n",
    "        cv2.circle(img, (cx, cy), 10, (0, 255, 0), cv2.FILLED)\n",
    "    else:\n",
    "        cx = width // 2\n",
    "\n",
    "    return cx\n",
    "\n",
    "\n",
    "def getSensorOutput(imgThres, sensors):\n",
    "    imgs = np.hsplit(imgThres, sensors)\n",
    "    totalPixels = (img.shape[1] // sensors) * img.shape[0]\n",
    "    senOut = []\n",
    "    for x, im in enumerate(imgs):\n",
    "        pixelCount = cv2.countNonZero(im)\n",
    "        if pixelCount > threshold * totalPixels:\n",
    "            senOut.append(1)\n",
    "        else:\n",
    "            senOut.append(0)\n",
    "        cv2.imshow(str(x), im)\n",
    "    print(senOut)\n",
    "    return senOut\n",
    "\n",
    "\n",
    "def sendCommands(senOut, cx):\n",
    "    global curve\n",
    "    # Translation\n",
    "    lr = (cx - width // 2) // sensitivity\n",
    "    lr = int(np.clip(lr, -10, 10))\n",
    "    if 2 > lr > -2:\n",
    "        lr = 0\n",
    "    # me.send_rc_control(lr, 0, 0, 0)\n",
    "\n",
    "    # Rotation\n",
    "    if senOut == [1, 0, 0]:\n",
    "        curve = weights[0]\n",
    "    elif senOut == [1, 1, 0]:\n",
    "        curve = weights[1]\n",
    "    elif senOut == [0, 1, 0]:\n",
    "        curve = weights[2]\n",
    "    elif senOut == [0, 1, 1]:\n",
    "        curve = weights[3]\n",
    "    elif senOut == [0, 0, 1]:\n",
    "        curve = weights[4]\n",
    "    elif senOut == [0, 0, 0]:\n",
    "        curve = weights[2]\n",
    "    elif senOut == [1, 1, 1]:\n",
    "        curve = weights[2]\n",
    "    elif senOut == [1, 0, 1]:\n",
    "        curve = weights[2]\n",
    "\n",
    "    me.send_rc_control(lr, fSpeed, 0, curve)"
   ]
  },
  {
   "cell_type": "code",
   "execution_count": null,
   "id": "54dc8b63",
   "metadata": {},
   "outputs": [
    {
     "name": "stderr",
     "output_type": "stream",
     "text": [
      "[h264 @ 0x7f8e620eda00] non-existing PPS 0 referenced\n",
      "[h264 @ 0x7f8e620eda00] non-existing PPS 0 referenced\n",
      "[h264 @ 0x7f8e620eda00] decode_slice_header error\n",
      "[h264 @ 0x7f8e620eda00] no frame!\n",
      "[h264 @ 0x7f8e620eda00] non-existing PPS 0 referenced\n",
      "[h264 @ 0x7f8e620eda00] non-existing PPS 0 referenced\n",
      "[h264 @ 0x7f8e620eda00] decode_slice_header error\n",
      "[h264 @ 0x7f8e620eda00] no frame!\n",
      "[h264 @ 0x7f8e620eda00] non-existing PPS 0 referenced\n",
      "[h264 @ 0x7f8e620eda00] non-existing PPS 0 referenced\n",
      "[h264 @ 0x7f8e620eda00] decode_slice_header error\n",
      "[h264 @ 0x7f8e620eda00] no frame!\n",
      "[h264 @ 0x7f8e620eda00] non-existing PPS 0 referenced\n",
      "[h264 @ 0x7f8e620eda00] non-existing PPS 0 referenced\n",
      "[h264 @ 0x7f8e620eda00] decode_slice_header error\n",
      "[h264 @ 0x7f8e620eda00] no frame!\n",
      "[h264 @ 0x7f8e620eda00] non-existing PPS 0 referenced\n",
      "[h264 @ 0x7f8e620eda00] non-existing PPS 0 referenced\n",
      "[h264 @ 0x7f8e620eda00] decode_slice_header error\n",
      "[h264 @ 0x7f8e620eda00] no frame!\n",
      "[h264 @ 0x7f8e620eda00] non-existing PPS 0 referenced\n",
      "[h264 @ 0x7f8e620eda00] non-existing PPS 0 referenced\n",
      "[h264 @ 0x7f8e620eda00] decode_slice_header error\n",
      "[h264 @ 0x7f8e620eda00] no frame!\n",
      "[h264 @ 0x7f8e620eda00] non-existing PPS 0 referenced\n",
      "[h264 @ 0x7f8e620eda00] non-existing PPS 0 referenced\n",
      "[h264 @ 0x7f8e620eda00] decode_slice_header error\n",
      "[h264 @ 0x7f8e620eda00] no frame!\n",
      "[h264 @ 0x7f8e620eda00] non-existing PPS 0 referenced\n",
      "[h264 @ 0x7f8e620eda00] non-existing PPS 0 referenced\n",
      "[h264 @ 0x7f8e620eda00] decode_slice_header error\n",
      "[h264 @ 0x7f8e620eda00] no frame!\n",
      "[h264 @ 0x7f8e620eda00] non-existing PPS 0 referenced\n",
      "[h264 @ 0x7f8e620eda00] non-existing PPS 0 referenced\n",
      "[h264 @ 0x7f8e620eda00] decode_slice_header error\n",
      "[h264 @ 0x7f8e620eda00] no frame!\n",
      "[h264 @ 0x7f8e620eda00] non-existing PPS 0 referenced\n",
      "[h264 @ 0x7f8e620eda00] non-existing PPS 0 referenced\n",
      "[h264 @ 0x7f8e620eda00] decode_slice_header error\n",
      "[h264 @ 0x7f8e620eda00] no frame!\n",
      "[h264 @ 0x7f8e620eda00] non-existing PPS 0 referenced\n",
      "[h264 @ 0x7f8e620eda00] non-existing PPS 0 referenced\n",
      "[h264 @ 0x7f8e620eda00] decode_slice_header error\n",
      "[h264 @ 0x7f8e620eda00] no frame!\n",
      "[h264 @ 0x7f8e620eda00] non-existing PPS 0 referenced\n",
      "[h264 @ 0x7f8e620eda00] non-existing PPS 0 referenced\n",
      "[h264 @ 0x7f8e620eda00] decode_slice_header error\n",
      "[h264 @ 0x7f8e620eda00] no frame!\n",
      "[h264 @ 0x7f8e620eda00] non-existing PPS 0 referenced\n",
      "[h264 @ 0x7f8e620eda00] non-existing PPS 0 referenced\n",
      "[h264 @ 0x7f8e620eda00] decode_slice_header error\n",
      "[h264 @ 0x7f8e620eda00] no frame!\n",
      "[h264 @ 0x7f8e620eda00] non-existing PPS 0 referenced\n",
      "[h264 @ 0x7f8e620eda00] non-existing PPS 0 referenced\n",
      "[h264 @ 0x7f8e620eda00] decode_slice_header error\n",
      "[h264 @ 0x7f8e620eda00] no frame!\n",
      "[h264 @ 0x7f8e620eda00] non-existing PPS 0 referenced\n",
      "[h264 @ 0x7f8e620eda00] non-existing PPS 0 referenced\n",
      "[h264 @ 0x7f8e620eda00] decode_slice_header error\n",
      "[h264 @ 0x7f8e620eda00] no frame!\n",
      "[h264 @ 0x7f8e620eda00] non-existing PPS 0 referenced\n",
      "[h264 @ 0x7f8e620eda00] non-existing PPS 0 referenced\n",
      "[h264 @ 0x7f8e620eda00] decode_slice_header error\n",
      "[h264 @ 0x7f8e620eda00] no frame!\n",
      "[h264 @ 0x7f8e620eda00] non-existing PPS 0 referenced\n",
      "[h264 @ 0x7f8e620eda00] non-existing PPS 0 referenced\n",
      "[h264 @ 0x7f8e620eda00] decode_slice_header error\n",
      "[h264 @ 0x7f8e620eda00] no frame!\n",
      "[INFO] tello.py - 455 - Send command (no response expected): 'rc 0 15 0 0'\n",
      "[INFO] tello.py - 455 - Send command (no response expected): 'rc 0 15 0 0'\n",
      "[INFO] tello.py - 455 - Send command (no response expected): 'rc 0 15 0 0'\n"
     ]
    },
    {
     "name": "stdout",
     "output_type": "stream",
     "text": [
      "[0, 0, 0]\n",
      "[0, 0, 0]\n",
      "[0, 0, 0]\n"
     ]
    },
    {
     "name": "stderr",
     "output_type": "stream",
     "text": [
      "[INFO] tello.py - 455 - Send command (no response expected): 'rc 0 15 0 0'\n",
      "[INFO] tello.py - 455 - Send command (no response expected): 'rc 0 15 0 0'\n",
      "[INFO] tello.py - 455 - Send command (no response expected): 'rc 0 15 0 0'\n",
      "[INFO] tello.py - 455 - Send command (no response expected): 'rc 0 15 0 0'\n"
     ]
    },
    {
     "name": "stdout",
     "output_type": "stream",
     "text": [
      "[0, 0, 0]\n",
      "[0, 0, 0]\n",
      "[0, 0, 0]\n",
      "[0, 0, 0]\n"
     ]
    },
    {
     "name": "stderr",
     "output_type": "stream",
     "text": [
      "[INFO] tello.py - 455 - Send command (no response expected): 'rc 0 15 0 0'\n",
      "[INFO] tello.py - 455 - Send command (no response expected): 'rc 0 15 0 0'\n",
      "[INFO] tello.py - 455 - Send command (no response expected): 'rc 0 15 0 0'\n",
      "[INFO] tello.py - 455 - Send command (no response expected): 'rc 0 15 0 0'\n"
     ]
    },
    {
     "name": "stdout",
     "output_type": "stream",
     "text": [
      "[0, 0, 0]\n",
      "[0, 0, 0]\n",
      "[0, 0, 0]\n",
      "[0, 0, 0]\n"
     ]
    },
    {
     "name": "stderr",
     "output_type": "stream",
     "text": [
      "[INFO] tello.py - 455 - Send command (no response expected): 'rc 0 15 0 0'\n",
      "[INFO] tello.py - 455 - Send command (no response expected): 'rc 0 15 0 0'\n",
      "[INFO] tello.py - 455 - Send command (no response expected): 'rc 0 15 0 0'\n"
     ]
    },
    {
     "name": "stdout",
     "output_type": "stream",
     "text": [
      "[0, 0, 0]\n",
      "[0, 0, 0]\n",
      "[0, 0, 0]\n"
     ]
    },
    {
     "name": "stderr",
     "output_type": "stream",
     "text": [
      "[INFO] tello.py - 455 - Send command (no response expected): 'rc 0 15 0 0'\n",
      "[INFO] tello.py - 455 - Send command (no response expected): 'rc 0 15 0 0'\n",
      "[INFO] tello.py - 455 - Send command (no response expected): 'rc 0 15 0 0'\n"
     ]
    },
    {
     "name": "stdout",
     "output_type": "stream",
     "text": [
      "[0, 0, 0]\n",
      "[0, 0, 0]\n",
      "[0, 0, 0]\n"
     ]
    },
    {
     "name": "stderr",
     "output_type": "stream",
     "text": [
      "[INFO] tello.py - 455 - Send command (no response expected): 'rc 0 15 0 0'\n",
      "[INFO] tello.py - 455 - Send command (no response expected): 'rc 0 15 0 0'\n",
      "[INFO] tello.py - 455 - Send command (no response expected): 'rc 0 15 0 0'\n",
      "[INFO] tello.py - 455 - Send command (no response expected): 'rc 0 15 0 0'\n"
     ]
    },
    {
     "name": "stdout",
     "output_type": "stream",
     "text": [
      "[0, 0, 0]\n",
      "[0, 0, 0]\n",
      "[0, 0, 0]\n",
      "[0, 0, 0]\n"
     ]
    },
    {
     "name": "stderr",
     "output_type": "stream",
     "text": [
      "[INFO] tello.py - 455 - Send command (no response expected): 'rc 0 15 0 0'\n",
      "[INFO] tello.py - 455 - Send command (no response expected): 'rc 0 15 0 0'\n",
      "[INFO] tello.py - 455 - Send command (no response expected): 'rc 0 15 0 0'\n",
      "[INFO] tello.py - 455 - Send command (no response expected): 'rc 0 15 0 0'\n",
      "[INFO] tello.py - 455 - Send command (no response expected): 'rc 0 15 0 0'\n"
     ]
    },
    {
     "name": "stdout",
     "output_type": "stream",
     "text": [
      "[0, 0, 0]\n",
      "[0, 0, 0]\n",
      "[0, 0, 0]\n",
      "[0, 0, 0]\n",
      "[0, 0, 0]\n"
     ]
    },
    {
     "name": "stderr",
     "output_type": "stream",
     "text": [
      "[INFO] tello.py - 455 - Send command (no response expected): 'rc 0 15 0 0'\n",
      "[INFO] tello.py - 455 - Send command (no response expected): 'rc 0 15 0 0'\n",
      "[INFO] tello.py - 455 - Send command (no response expected): 'rc 0 15 0 0'\n",
      "[INFO] tello.py - 455 - Send command (no response expected): 'rc 0 15 0 0'\n",
      "[INFO] tello.py - 455 - Send command (no response expected): 'rc 0 15 0 0'\n"
     ]
    },
    {
     "name": "stdout",
     "output_type": "stream",
     "text": [
      "[0, 0, 0]\n",
      "[0, 0, 0]\n",
      "[0, 0, 0]\n",
      "[0, 0, 0]\n",
      "[0, 0, 0]\n"
     ]
    },
    {
     "name": "stderr",
     "output_type": "stream",
     "text": [
      "[INFO] tello.py - 455 - Send command (no response expected): 'rc 0 15 0 0'\n",
      "[INFO] tello.py - 455 - Send command (no response expected): 'rc 0 15 0 0'\n",
      "[INFO] tello.py - 455 - Send command (no response expected): 'rc 0 15 0 0'\n",
      "[INFO] tello.py - 455 - Send command (no response expected): 'rc 0 15 0 0'\n"
     ]
    },
    {
     "name": "stdout",
     "output_type": "stream",
     "text": [
      "[0, 0, 0]\n",
      "[0, 0, 0]\n",
      "[0, 0, 0]\n",
      "[0, 0, 0]\n"
     ]
    },
    {
     "name": "stderr",
     "output_type": "stream",
     "text": [
      "[INFO] tello.py - 455 - Send command (no response expected): 'rc 0 15 0 0'\n",
      "[INFO] tello.py - 455 - Send command (no response expected): 'rc 0 15 0 0'\n",
      "[INFO] tello.py - 455 - Send command (no response expected): 'rc 0 15 0 0'\n",
      "[INFO] tello.py - 455 - Send command (no response expected): 'rc 0 15 0 0'\n"
     ]
    },
    {
     "name": "stdout",
     "output_type": "stream",
     "text": [
      "[0, 0, 0]\n",
      "[0, 0, 0]\n",
      "[0, 0, 0]\n",
      "[0, 0, 0]\n"
     ]
    },
    {
     "name": "stderr",
     "output_type": "stream",
     "text": [
      "[INFO] tello.py - 455 - Send command (no response expected): 'rc 0 15 0 0'\n",
      "[INFO] tello.py - 455 - Send command (no response expected): 'rc 0 15 0 0'\n",
      "[INFO] tello.py - 455 - Send command (no response expected): 'rc 0 15 0 0'\n",
      "[INFO] tello.py - 455 - Send command (no response expected): 'rc 0 15 0 0'\n",
      "[INFO] tello.py - 455 - Send command (no response expected): 'rc 0 15 0 0'\n",
      "[INFO] tello.py - 455 - Send command (no response expected): 'rc 0 15 0 0'\n"
     ]
    },
    {
     "name": "stdout",
     "output_type": "stream",
     "text": [
      "[0, 0, 0]\n",
      "[0, 0, 0]\n",
      "[0, 0, 0]\n",
      "[0, 0, 0]\n",
      "[0, 0, 0]\n",
      "[0, 0, 0]\n"
     ]
    },
    {
     "name": "stderr",
     "output_type": "stream",
     "text": [
      "[INFO] tello.py - 455 - Send command (no response expected): 'rc 0 15 0 0'\n",
      "[INFO] tello.py - 455 - Send command (no response expected): 'rc 0 15 0 0'\n",
      "[INFO] tello.py - 455 - Send command (no response expected): 'rc 0 15 0 0'\n",
      "[INFO] tello.py - 455 - Send command (no response expected): 'rc 0 15 0 0'\n",
      "[INFO] tello.py - 455 - Send command (no response expected): 'rc 0 15 0 0'\n"
     ]
    },
    {
     "name": "stdout",
     "output_type": "stream",
     "text": [
      "[0, 0, 0]\n",
      "[0, 0, 0]\n",
      "[0, 0, 0]\n",
      "[0, 0, 0]\n",
      "[0, 0, 0]\n"
     ]
    },
    {
     "name": "stderr",
     "output_type": "stream",
     "text": [
      "[INFO] tello.py - 455 - Send command (no response expected): 'rc 0 15 0 0'\n",
      "[INFO] tello.py - 455 - Send command (no response expected): 'rc 0 15 0 0'\n",
      "[INFO] tello.py - 455 - Send command (no response expected): 'rc 0 15 0 0'\n",
      "[INFO] tello.py - 455 - Send command (no response expected): 'rc 0 15 0 0'\n"
     ]
    },
    {
     "name": "stdout",
     "output_type": "stream",
     "text": [
      "[0, 0, 0]\n",
      "[0, 0, 0]\n",
      "[0, 0, 0]\n",
      "[0, 0, 0]\n"
     ]
    },
    {
     "name": "stderr",
     "output_type": "stream",
     "text": [
      "[INFO] tello.py - 455 - Send command (no response expected): 'rc 0 15 0 0'\n",
      "[INFO] tello.py - 455 - Send command (no response expected): 'rc 0 15 0 0'\n",
      "[INFO] tello.py - 455 - Send command (no response expected): 'rc 0 15 0 0'\n",
      "[INFO] tello.py - 455 - Send command (no response expected): 'rc 0 15 0 0'\n"
     ]
    },
    {
     "name": "stdout",
     "output_type": "stream",
     "text": [
      "[0, 0, 0]\n",
      "[0, 0, 0]\n",
      "[0, 0, 0]\n",
      "[0, 0, 0]\n"
     ]
    },
    {
     "name": "stderr",
     "output_type": "stream",
     "text": [
      "[INFO] tello.py - 455 - Send command (no response expected): 'rc 0 15 0 0'\n",
      "[INFO] tello.py - 455 - Send command (no response expected): 'rc 0 15 0 0'\n",
      "[INFO] tello.py - 455 - Send command (no response expected): 'rc 0 15 0 0'\n",
      "[INFO] tello.py - 455 - Send command (no response expected): 'rc 0 15 0 0'\n",
      "[INFO] tello.py - 455 - Send command (no response expected): 'rc 0 15 0 0'\n"
     ]
    },
    {
     "name": "stdout",
     "output_type": "stream",
     "text": [
      "[0, 0, 0]\n",
      "[0, 0, 0]\n",
      "[0, 0, 0]\n",
      "[0, 0, 0]\n",
      "[0, 0, 0]\n"
     ]
    },
    {
     "name": "stderr",
     "output_type": "stream",
     "text": [
      "[INFO] tello.py - 455 - Send command (no response expected): 'rc 0 15 0 0'\n",
      "[INFO] tello.py - 455 - Send command (no response expected): 'rc 0 15 0 0'\n",
      "[INFO] tello.py - 455 - Send command (no response expected): 'rc 0 15 0 0'\n",
      "[INFO] tello.py - 455 - Send command (no response expected): 'rc 0 15 0 0'\n",
      "[INFO] tello.py - 455 - Send command (no response expected): 'rc 0 15 0 0'\n"
     ]
    },
    {
     "name": "stdout",
     "output_type": "stream",
     "text": [
      "[0, 0, 0]\n",
      "[0, 0, 0]\n",
      "[0, 0, 0]\n",
      "[0, 0, 0]\n",
      "[0, 0, 0]\n"
     ]
    },
    {
     "name": "stderr",
     "output_type": "stream",
     "text": [
      "[INFO] tello.py - 455 - Send command (no response expected): 'rc 0 15 0 0'\n",
      "[INFO] tello.py - 455 - Send command (no response expected): 'rc 0 15 0 0'\n",
      "[INFO] tello.py - 455 - Send command (no response expected): 'rc 0 15 0 0'\n",
      "[INFO] tello.py - 455 - Send command (no response expected): 'rc 0 15 0 0'\n",
      "[INFO] tello.py - 455 - Send command (no response expected): 'rc 0 15 0 0'\n"
     ]
    },
    {
     "name": "stdout",
     "output_type": "stream",
     "text": [
      "[0, 0, 0]\n",
      "[0, 0, 0]\n",
      "[0, 0, 0]\n",
      "[0, 0, 0]\n",
      "[0, 0, 0]\n"
     ]
    },
    {
     "name": "stderr",
     "output_type": "stream",
     "text": [
      "2021-08-23 14:58:01.304 Python[9203:227994] TSM AdjustCapsLockLEDForKeyTransitionHandling - _ISSetPhysicalKeyboardCapsLockLED Inhibit\n",
      "[INFO] tello.py - 422 - Send command: 'takeoff'\n",
      "[INFO] tello.py - 446 - Response takeoff: 'ok'\n",
      "[INFO] tello.py - 455 - Send command (no response expected): 'rc 10 15 0 0'\n",
      "[INFO] tello.py - 455 - Send command (no response expected): 'rc 10 15 0 0'\n",
      "[INFO] tello.py - 455 - Send command (no response expected): 'rc 10 15 0 0'\n",
      "[INFO] tello.py - 455 - Send command (no response expected): 'rc 10 15 0 0'\n",
      "[INFO] tello.py - 455 - Send command (no response expected): 'rc 10 15 0 0'\n",
      "[INFO] tello.py - 455 - Send command (no response expected): 'rc 10 15 0 0'\n"
     ]
    },
    {
     "name": "stdout",
     "output_type": "stream",
     "text": [
      "[0, 1, 0]\n",
      "[0, 1, 0]\n",
      "[0, 1, 0]\n",
      "[0, 1, 0]\n",
      "[0, 1, 0]\n",
      "[0, 1, 0]\n"
     ]
    },
    {
     "name": "stderr",
     "output_type": "stream",
     "text": [
      "[INFO] tello.py - 455 - Send command (no response expected): 'rc 10 15 0 0'\n",
      "[INFO] tello.py - 455 - Send command (no response expected): 'rc 10 15 0 0'\n",
      "[INFO] tello.py - 455 - Send command (no response expected): 'rc 10 15 0 0'\n",
      "[INFO] tello.py - 455 - Send command (no response expected): 'rc 10 15 0 0'\n",
      "[INFO] tello.py - 455 - Send command (no response expected): 'rc 10 15 0 0'\n"
     ]
    },
    {
     "name": "stdout",
     "output_type": "stream",
     "text": [
      "[0, 1, 0]\n",
      "[0, 1, 0]\n",
      "[0, 1, 0]\n",
      "[0, 1, 0]\n",
      "[0, 1, 0]\n"
     ]
    },
    {
     "name": "stderr",
     "output_type": "stream",
     "text": [
      "[INFO] tello.py - 455 - Send command (no response expected): 'rc 10 15 0 0'\n",
      "[INFO] tello.py - 455 - Send command (no response expected): 'rc 10 15 0 0'\n",
      "[INFO] tello.py - 455 - Send command (no response expected): 'rc 10 15 0 0'\n",
      "[INFO] tello.py - 455 - Send command (no response expected): 'rc 10 15 0 0'\n",
      "[INFO] tello.py - 455 - Send command (no response expected): 'rc 10 15 0 0'\n"
     ]
    },
    {
     "name": "stdout",
     "output_type": "stream",
     "text": [
      "[0, 1, 0]\n",
      "[0, 1, 0]\n",
      "[0, 1, 0]\n",
      "[0, 1, 0]\n",
      "[0, 1, 0]\n"
     ]
    },
    {
     "name": "stderr",
     "output_type": "stream",
     "text": [
      "[INFO] tello.py - 455 - Send command (no response expected): 'rc 10 15 0 0'\n",
      "[INFO] tello.py - 455 - Send command (no response expected): 'rc 10 15 0 0'\n",
      "[INFO] tello.py - 455 - Send command (no response expected): 'rc 10 15 0 0'\n",
      "[INFO] tello.py - 455 - Send command (no response expected): 'rc 10 15 0 0'\n"
     ]
    },
    {
     "name": "stdout",
     "output_type": "stream",
     "text": [
      "[0, 1, 0]\n",
      "[0, 1, 0]\n",
      "[0, 1, 0]\n",
      "[0, 1, 0]\n"
     ]
    },
    {
     "name": "stderr",
     "output_type": "stream",
     "text": [
      "[INFO] tello.py - 455 - Send command (no response expected): 'rc 10 15 0 0'\n",
      "[INFO] tello.py - 455 - Send command (no response expected): 'rc 10 15 0 0'\n",
      "[INFO] tello.py - 455 - Send command (no response expected): 'rc 10 15 0 0'\n",
      "[INFO] tello.py - 455 - Send command (no response expected): 'rc 10 15 0 0'\n",
      "[INFO] tello.py - 455 - Send command (no response expected): 'rc 10 15 0 0'\n"
     ]
    },
    {
     "name": "stdout",
     "output_type": "stream",
     "text": [
      "[0, 1, 0]\n",
      "[0, 1, 0]\n",
      "[0, 1, 0]\n",
      "[0, 1, 0]\n",
      "[0, 1, 0]\n"
     ]
    },
    {
     "name": "stderr",
     "output_type": "stream",
     "text": [
      "[INFO] tello.py - 455 - Send command (no response expected): 'rc 10 15 0 0'\n",
      "[INFO] tello.py - 455 - Send command (no response expected): 'rc 10 15 0 0'\n",
      "[INFO] tello.py - 455 - Send command (no response expected): 'rc 10 15 0 0'\n",
      "[INFO] tello.py - 455 - Send command (no response expected): 'rc 10 15 0 0'\n"
     ]
    },
    {
     "name": "stdout",
     "output_type": "stream",
     "text": [
      "[0, 1, 0]\n",
      "[0, 1, 0]\n",
      "[0, 1, 0]\n",
      "[0, 1, 0]\n",
      "[0, 1, 0]\n"
     ]
    },
    {
     "name": "stderr",
     "output_type": "stream",
     "text": [
      "[INFO] tello.py - 455 - Send command (no response expected): 'rc 10 15 0 0'\n",
      "[INFO] tello.py - 455 - Send command (no response expected): 'rc 10 15 0 0'\n",
      "[INFO] tello.py - 455 - Send command (no response expected): 'rc 10 15 0 0'\n",
      "[INFO] tello.py - 455 - Send command (no response expected): 'rc 10 15 0 0'\n",
      "[INFO] tello.py - 455 - Send command (no response expected): 'rc 10 15 0 0'\n",
      "[INFO] tello.py - 455 - Send command (no response expected): 'rc 10 15 0 0'\n"
     ]
    },
    {
     "name": "stdout",
     "output_type": "stream",
     "text": [
      "[0, 1, 0]\n",
      "[0, 1, 0]\n",
      "[0, 1, 0]\n",
      "[0, 1, 0]\n",
      "[0, 1, 0]\n"
     ]
    },
    {
     "name": "stderr",
     "output_type": "stream",
     "text": [
      "[INFO] tello.py - 455 - Send command (no response expected): 'rc 10 15 0 0'\n",
      "[INFO] tello.py - 455 - Send command (no response expected): 'rc 10 15 0 0'\n",
      "[INFO] tello.py - 455 - Send command (no response expected): 'rc 10 15 0 0'\n",
      "[INFO] tello.py - 455 - Send command (no response expected): 'rc 10 15 0 0'\n",
      "[INFO] tello.py - 455 - Send command (no response expected): 'rc 10 15 0 0'\n"
     ]
    },
    {
     "name": "stdout",
     "output_type": "stream",
     "text": [
      "[0, 1, 0]\n",
      "[0, 1, 0]\n",
      "[0, 1, 0]\n",
      "[0, 1, 0]\n",
      "[0, 1, 0]\n"
     ]
    },
    {
     "name": "stderr",
     "output_type": "stream",
     "text": [
      "[INFO] tello.py - 455 - Send command (no response expected): 'rc 10 15 0 0'\n",
      "[INFO] tello.py - 455 - Send command (no response expected): 'rc 10 15 0 0'\n",
      "[INFO] tello.py - 455 - Send command (no response expected): 'rc 10 15 0 0'\n",
      "[INFO] tello.py - 455 - Send command (no response expected): 'rc 10 15 0 0'\n",
      "[INFO] tello.py - 455 - Send command (no response expected): 'rc 9 15 0 0'\n"
     ]
    },
    {
     "name": "stdout",
     "output_type": "stream",
     "text": [
      "[0, 1, 0]\n",
      "[0, 1, 0]\n",
      "[0, 1, 0]\n",
      "[0, 1, 0]\n",
      "[0, 1, 0]\n"
     ]
    },
    {
     "name": "stderr",
     "output_type": "stream",
     "text": [
      "[INFO] tello.py - 455 - Send command (no response expected): 'rc 9 15 0 0'\n",
      "[INFO] tello.py - 455 - Send command (no response expected): 'rc 9 15 0 0'\n",
      "[INFO] tello.py - 455 - Send command (no response expected): 'rc 8 15 0 0'\n",
      "[INFO] tello.py - 455 - Send command (no response expected): 'rc 8 15 0 0'\n",
      "[INFO] tello.py - 455 - Send command (no response expected): 'rc 7 15 0 0'\n"
     ]
    },
    {
     "name": "stdout",
     "output_type": "stream",
     "text": [
      "[0, 1, 0]\n",
      "[0, 1, 0]\n",
      "[0, 1, 0]\n",
      "[0, 1, 0]\n",
      "[0, 1, 0]\n"
     ]
    },
    {
     "name": "stderr",
     "output_type": "stream",
     "text": [
      "[INFO] tello.py - 455 - Send command (no response expected): 'rc 7 15 0 0'\n",
      "[INFO] tello.py - 455 - Send command (no response expected): 'rc 6 15 0 0'\n",
      "[INFO] tello.py - 455 - Send command (no response expected): 'rc 5 15 0 0'\n",
      "[INFO] tello.py - 455 - Send command (no response expected): 'rc 5 15 0 0'\n",
      "[INFO] tello.py - 455 - Send command (no response expected): 'rc 5 15 0 0'\n"
     ]
    },
    {
     "name": "stdout",
     "output_type": "stream",
     "text": [
      "[0, 1, 0]\n",
      "[0, 1, 0]\n",
      "[0, 1, 0]\n",
      "[0, 1, 0]\n",
      "[0, 1, 0]\n"
     ]
    },
    {
     "name": "stderr",
     "output_type": "stream",
     "text": [
      "[INFO] tello.py - 455 - Send command (no response expected): 'rc 4 15 0 0'\n",
      "[INFO] tello.py - 455 - Send command (no response expected): 'rc 4 15 0 0'\n",
      "[INFO] tello.py - 455 - Send command (no response expected): 'rc 3 15 0 0'\n",
      "[INFO] tello.py - 455 - Send command (no response expected): 'rc 3 15 0 0'\n",
      "[INFO] tello.py - 455 - Send command (no response expected): 'rc 2 15 0 0'\n"
     ]
    },
    {
     "name": "stdout",
     "output_type": "stream",
     "text": [
      "[0, 1, 0]\n",
      "[0, 1, 0]\n",
      "[0, 1, 0]\n",
      "[0, 1, 0]\n",
      "[0, 1, 0]\n"
     ]
    },
    {
     "name": "stderr",
     "output_type": "stream",
     "text": [
      "[INFO] tello.py - 455 - Send command (no response expected): 'rc 2 15 0 0'\n",
      "[INFO] tello.py - 455 - Send command (no response expected): 'rc 0 15 0 0'\n",
      "[INFO] tello.py - 455 - Send command (no response expected): 'rc 0 15 0 0'\n",
      "[INFO] tello.py - 455 - Send command (no response expected): 'rc 0 15 0 0'\n",
      "[INFO] tello.py - 455 - Send command (no response expected): 'rc 0 15 0 0'\n"
     ]
    },
    {
     "name": "stdout",
     "output_type": "stream",
     "text": [
      "[0, 1, 0]\n",
      "[0, 1, 0]\n",
      "[0, 1, 0]\n",
      "[0, 1, 0]\n",
      "[0, 1, 0]\n"
     ]
    },
    {
     "name": "stderr",
     "output_type": "stream",
     "text": [
      "[INFO] tello.py - 455 - Send command (no response expected): 'rc 0 15 0 0'\n",
      "[INFO] tello.py - 455 - Send command (no response expected): 'rc 0 15 0 0'\n",
      "[INFO] tello.py - 455 - Send command (no response expected): 'rc 0 15 0 0'\n",
      "[INFO] tello.py - 455 - Send command (no response expected): 'rc 0 15 0 0'\n",
      "[INFO] tello.py - 455 - Send command (no response expected): 'rc -2 15 0 0'\n"
     ]
    },
    {
     "name": "stdout",
     "output_type": "stream",
     "text": [
      "[0, 1, 0]\n",
      "[0, 1, 0]\n",
      "[0, 1, 0]\n",
      "[0, 1, 0]\n",
      "[0, 1, 0]\n"
     ]
    },
    {
     "name": "stderr",
     "output_type": "stream",
     "text": [
      "[INFO] tello.py - 455 - Send command (no response expected): 'rc -2 15 0 0'\n",
      "[INFO] tello.py - 455 - Send command (no response expected): 'rc -2 15 0 0'\n",
      "[INFO] tello.py - 455 - Send command (no response expected): 'rc -2 15 0 0'\n",
      "[INFO] tello.py - 455 - Send command (no response expected): 'rc -3 15 0 0'\n",
      "[INFO] tello.py - 455 - Send command (no response expected): 'rc -5 15 0 0'\n"
     ]
    },
    {
     "name": "stdout",
     "output_type": "stream",
     "text": [
      "[0, 1, 0]\n",
      "[0, 1, 0]\n",
      "[0, 1, 0]\n",
      "[0, 1, 0]\n",
      "[0, 1, 0]\n"
     ]
    },
    {
     "name": "stderr",
     "output_type": "stream",
     "text": [
      "[INFO] tello.py - 455 - Send command (no response expected): 'rc -5 15 0 0'\n",
      "[INFO] tello.py - 455 - Send command (no response expected): 'rc -5 15 0 0'\n",
      "[INFO] tello.py - 455 - Send command (no response expected): 'rc -5 15 0 0'\n",
      "[INFO] tello.py - 455 - Send command (no response expected): 'rc -5 15 0 0'\n",
      "[INFO] tello.py - 455 - Send command (no response expected): 'rc -5 15 0 0'\n"
     ]
    },
    {
     "name": "stdout",
     "output_type": "stream",
     "text": [
      "[0, 1, 0]\n",
      "[0, 1, 0]\n",
      "[0, 1, 0]\n",
      "[0, 1, 0]\n",
      "[0, 1, 0]\n"
     ]
    },
    {
     "name": "stderr",
     "output_type": "stream",
     "text": [
      "[INFO] tello.py - 455 - Send command (no response expected): 'rc -6 15 0 0'\n",
      "[INFO] tello.py - 455 - Send command (no response expected): 'rc -6 15 0 0'\n",
      "[INFO] tello.py - 455 - Send command (no response expected): 'rc -6 15 0 0'\n",
      "[INFO] tello.py - 455 - Send command (no response expected): 'rc -6 15 0 0'\n",
      "[INFO] tello.py - 455 - Send command (no response expected): 'rc -6 15 0 0'\n"
     ]
    },
    {
     "name": "stdout",
     "output_type": "stream",
     "text": [
      "[0, 1, 0]\n",
      "[0, 1, 0]\n",
      "[0, 1, 0]\n",
      "[0, 1, 0]\n",
      "[0, 1, 0]\n"
     ]
    },
    {
     "name": "stderr",
     "output_type": "stream",
     "text": [
      "[INFO] tello.py - 455 - Send command (no response expected): 'rc -6 15 0 0'\n",
      "[INFO] tello.py - 455 - Send command (no response expected): 'rc -6 15 0 0'\n",
      "[INFO] tello.py - 455 - Send command (no response expected): 'rc -6 15 0 0'\n",
      "[INFO] tello.py - 455 - Send command (no response expected): 'rc -6 15 0 0'\n",
      "[INFO] tello.py - 455 - Send command (no response expected): 'rc -6 15 0 0'\n"
     ]
    },
    {
     "name": "stdout",
     "output_type": "stream",
     "text": [
      "[0, 1, 0]\n",
      "[0, 1, 0]\n",
      "[0, 1, 0]\n",
      "[0, 1, 0]\n",
      "[0, 1, 0]\n"
     ]
    },
    {
     "name": "stderr",
     "output_type": "stream",
     "text": [
      "[INFO] tello.py - 455 - Send command (no response expected): 'rc -6 15 0 0'\n",
      "[INFO] tello.py - 455 - Send command (no response expected): 'rc -6 15 0 0'\n",
      "[INFO] tello.py - 455 - Send command (no response expected): 'rc -6 15 0 0'\n",
      "[INFO] tello.py - 455 - Send command (no response expected): 'rc -6 15 0 0'\n",
      "[INFO] tello.py - 455 - Send command (no response expected): 'rc -6 15 0 0'\n"
     ]
    },
    {
     "name": "stdout",
     "output_type": "stream",
     "text": [
      "[0, 1, 0]\n",
      "[0, 1, 0]\n",
      "[0, 1, 0]\n",
      "[0, 1, 0]\n",
      "[0, 1, 0]\n"
     ]
    },
    {
     "name": "stderr",
     "output_type": "stream",
     "text": [
      "[INFO] tello.py - 455 - Send command (no response expected): 'rc -5 15 0 0'\n",
      "[INFO] tello.py - 455 - Send command (no response expected): 'rc -5 15 0 0'\n",
      "[INFO] tello.py - 455 - Send command (no response expected): 'rc -5 15 0 0'\n",
      "[INFO] tello.py - 455 - Send command (no response expected): 'rc -5 15 0 0'\n"
     ]
    },
    {
     "name": "stdout",
     "output_type": "stream",
     "text": [
      "[0, 1, 0]\n",
      "[0, 1, 0]\n",
      "[0, 1, 0]\n",
      "[0, 1, 0]\n"
     ]
    },
    {
     "name": "stderr",
     "output_type": "stream",
     "text": [
      "[INFO] tello.py - 455 - Send command (no response expected): 'rc -5 15 0 0'\n",
      "[INFO] tello.py - 455 - Send command (no response expected): 'rc -5 15 0 0'\n",
      "[INFO] tello.py - 455 - Send command (no response expected): 'rc -4 15 0 0'\n",
      "[INFO] tello.py - 455 - Send command (no response expected): 'rc -4 15 0 0'\n",
      "[INFO] tello.py - 455 - Send command (no response expected): 'rc -4 15 0 0'\n"
     ]
    },
    {
     "name": "stdout",
     "output_type": "stream",
     "text": [
      "[0, 1, 0]\n",
      "[0, 1, 0]\n",
      "[0, 1, 0]\n",
      "[0, 1, 0]\n",
      "[0, 1, 0]\n"
     ]
    },
    {
     "name": "stderr",
     "output_type": "stream",
     "text": [
      "[INFO] tello.py - 455 - Send command (no response expected): 'rc -4 15 0 0'\n",
      "[INFO] tello.py - 455 - Send command (no response expected): 'rc -3 15 0 0'\n",
      "[INFO] tello.py - 455 - Send command (no response expected): 'rc -3 15 0 0'\n",
      "[INFO] tello.py - 455 - Send command (no response expected): 'rc -3 15 0 0'\n"
     ]
    },
    {
     "name": "stdout",
     "output_type": "stream",
     "text": [
      "[0, 1, 0]\n",
      "[0, 1, 0]\n",
      "[0, 1, 0]\n",
      "[0, 1, 0]\n"
     ]
    },
    {
     "name": "stderr",
     "output_type": "stream",
     "text": [
      "[INFO] tello.py - 455 - Send command (no response expected): 'rc -3 15 0 0'\n",
      "[INFO] tello.py - 455 - Send command (no response expected): 'rc -2 15 0 0'\n",
      "[INFO] tello.py - 455 - Send command (no response expected): 'rc -2 15 0 0'\n",
      "[INFO] tello.py - 455 - Send command (no response expected): 'rc -2 15 0 0'\n",
      "[INFO] tello.py - 455 - Send command (no response expected): 'rc -2 15 0 0'\n"
     ]
    },
    {
     "name": "stdout",
     "output_type": "stream",
     "text": [
      "[0, 1, 0]\n",
      "[0, 1, 0]\n",
      "[0, 1, 0]\n",
      "[0, 1, 0]\n",
      "[0, 1, 0]\n"
     ]
    },
    {
     "name": "stderr",
     "output_type": "stream",
     "text": [
      "[INFO] tello.py - 455 - Send command (no response expected): 'rc -2 15 0 0'\n",
      "[INFO] tello.py - 455 - Send command (no response expected): 'rc -2 15 0 0'\n",
      "[INFO] tello.py - 455 - Send command (no response expected): 'rc 0 15 0 0'\n",
      "[INFO] tello.py - 455 - Send command (no response expected): 'rc 0 15 0 0'\n",
      "[INFO] tello.py - 455 - Send command (no response expected): 'rc 0 15 0 0'\n"
     ]
    },
    {
     "name": "stdout",
     "output_type": "stream",
     "text": [
      "[0, 1, 0]\n",
      "[0, 1, 0]\n",
      "[0, 1, 0]\n",
      "[0, 1, 0]\n",
      "[0, 1, 0]\n"
     ]
    },
    {
     "name": "stderr",
     "output_type": "stream",
     "text": [
      "[INFO] tello.py - 455 - Send command (no response expected): 'rc 0 15 0 0'\n",
      "[INFO] tello.py - 455 - Send command (no response expected): 'rc 0 15 0 0'\n",
      "[INFO] tello.py - 455 - Send command (no response expected): 'rc 0 15 0 0'\n",
      "[INFO] tello.py - 455 - Send command (no response expected): 'rc 0 15 0 0'\n",
      "[INFO] tello.py - 455 - Send command (no response expected): 'rc 0 15 0 0'\n"
     ]
    },
    {
     "name": "stdout",
     "output_type": "stream",
     "text": [
      "[0, 1, 0]\n",
      "[0, 1, 0]\n",
      "[0, 1, 0]\n",
      "[0, 1, 0]\n",
      "[0, 1, 0]\n"
     ]
    },
    {
     "name": "stderr",
     "output_type": "stream",
     "text": [
      "[INFO] tello.py - 455 - Send command (no response expected): 'rc 0 15 0 0'\n",
      "[INFO] tello.py - 455 - Send command (no response expected): 'rc 0 15 0 0'\n",
      "[INFO] tello.py - 455 - Send command (no response expected): 'rc 0 15 0 0'\n",
      "[INFO] tello.py - 455 - Send command (no response expected): 'rc 0 15 0 0'\n",
      "[INFO] tello.py - 455 - Send command (no response expected): 'rc 0 15 0 0'\n"
     ]
    },
    {
     "name": "stdout",
     "output_type": "stream",
     "text": [
      "[0, 1, 0]\n",
      "[0, 1, 0]\n",
      "[0, 1, 0]\n",
      "[0, 1, 0]\n",
      "[0, 1, 0]\n"
     ]
    },
    {
     "name": "stderr",
     "output_type": "stream",
     "text": [
      "[INFO] tello.py - 455 - Send command (no response expected): 'rc 0 15 0 0'\n",
      "[INFO] tello.py - 455 - Send command (no response expected): 'rc 0 15 0 0'\n",
      "[INFO] tello.py - 455 - Send command (no response expected): 'rc 0 15 0 0'\n",
      "[INFO] tello.py - 455 - Send command (no response expected): 'rc 0 15 0 0'\n",
      "[INFO] tello.py - 455 - Send command (no response expected): 'rc 0 15 0 0'\n"
     ]
    },
    {
     "name": "stdout",
     "output_type": "stream",
     "text": [
      "[0, 1, 0]\n",
      "[0, 1, 0]\n",
      "[0, 1, 0]\n",
      "[0, 1, 0]\n",
      "[0, 1, 0]\n"
     ]
    },
    {
     "name": "stderr",
     "output_type": "stream",
     "text": [
      "[INFO] tello.py - 455 - Send command (no response expected): 'rc 0 15 0 0'\n",
      "[INFO] tello.py - 455 - Send command (no response expected): 'rc 0 15 0 0'\n",
      "[INFO] tello.py - 455 - Send command (no response expected): 'rc 0 15 0 0'\n",
      "[INFO] tello.py - 455 - Send command (no response expected): 'rc 0 15 0 0'\n",
      "[INFO] tello.py - 455 - Send command (no response expected): 'rc 0 15 0 0'\n"
     ]
    },
    {
     "name": "stdout",
     "output_type": "stream",
     "text": [
      "[0, 1, 0]\n",
      "[0, 1, 0]\n",
      "[0, 1, 0]\n",
      "[0, 1, 0]\n",
      "[0, 1, 0]\n"
     ]
    },
    {
     "name": "stderr",
     "output_type": "stream",
     "text": [
      "[INFO] tello.py - 455 - Send command (no response expected): 'rc 0 15 0 0'\n",
      "[INFO] tello.py - 455 - Send command (no response expected): 'rc 0 15 0 0'\n",
      "[INFO] tello.py - 455 - Send command (no response expected): 'rc 0 15 0 0'\n",
      "[INFO] tello.py - 455 - Send command (no response expected): 'rc 0 15 0 0'\n",
      "[INFO] tello.py - 455 - Send command (no response expected): 'rc 0 15 0 0'\n"
     ]
    },
    {
     "name": "stdout",
     "output_type": "stream",
     "text": [
      "[0, 1, 0]\n",
      "[0, 1, 0]\n",
      "[0, 1, 0]\n",
      "[0, 1, 0]\n",
      "[0, 1, 0]\n"
     ]
    },
    {
     "name": "stderr",
     "output_type": "stream",
     "text": [
      "[INFO] tello.py - 455 - Send command (no response expected): 'rc 2 15 0 0'\n",
      "[INFO] tello.py - 455 - Send command (no response expected): 'rc 2 15 0 0'\n",
      "[INFO] tello.py - 455 - Send command (no response expected): 'rc 2 15 0 0'\n",
      "[INFO] tello.py - 455 - Send command (no response expected): 'rc 2 15 0 0'\n",
      "[INFO] tello.py - 455 - Send command (no response expected): 'rc 2 15 0 0'\n"
     ]
    },
    {
     "name": "stdout",
     "output_type": "stream",
     "text": [
      "[0, 1, 0]\n",
      "[0, 1, 0]\n",
      "[0, 1, 0]\n",
      "[0, 1, 0]\n",
      "[0, 1, 0]\n"
     ]
    },
    {
     "name": "stderr",
     "output_type": "stream",
     "text": [
      "[INFO] tello.py - 455 - Send command (no response expected): 'rc 2 15 0 0'\n",
      "[INFO] tello.py - 455 - Send command (no response expected): 'rc 2 15 0 0'\n",
      "[INFO] tello.py - 455 - Send command (no response expected): 'rc 2 15 0 0'\n",
      "[INFO] tello.py - 455 - Send command (no response expected): 'rc 2 15 0 0'\n",
      "[INFO] tello.py - 455 - Send command (no response expected): 'rc 2 15 0 0'\n"
     ]
    },
    {
     "name": "stdout",
     "output_type": "stream",
     "text": [
      "[0, 1, 0]\n",
      "[0, 1, 0]\n",
      "[0, 1, 0]\n",
      "[0, 1, 0]\n",
      "[0, 1, 0]\n"
     ]
    },
    {
     "name": "stderr",
     "output_type": "stream",
     "text": [
      "[INFO] tello.py - 455 - Send command (no response expected): 'rc 2 15 0 0'\n",
      "[INFO] tello.py - 455 - Send command (no response expected): 'rc 2 15 0 0'\n",
      "[INFO] tello.py - 455 - Send command (no response expected): 'rc 2 15 0 0'\n",
      "[INFO] tello.py - 455 - Send command (no response expected): 'rc 3 15 0 0'\n"
     ]
    },
    {
     "name": "stdout",
     "output_type": "stream",
     "text": [
      "[0, 1, 0]\n",
      "[0, 1, 0]\n",
      "[0, 1, 0]\n",
      "[0, 1, 0]\n",
      "[0, 1, 0]\n"
     ]
    },
    {
     "name": "stderr",
     "output_type": "stream",
     "text": [
      "[INFO] tello.py - 455 - Send command (no response expected): 'rc 3 15 0 0'\n",
      "[INFO] tello.py - 455 - Send command (no response expected): 'rc 3 15 0 0'\n",
      "[INFO] tello.py - 455 - Send command (no response expected): 'rc 3 15 0 0'\n",
      "[INFO] tello.py - 455 - Send command (no response expected): 'rc 3 15 0 0'\n",
      "[INFO] tello.py - 455 - Send command (no response expected): 'rc 3 15 0 0'\n",
      "[INFO] tello.py - 455 - Send command (no response expected): 'rc 3 15 0 0'\n"
     ]
    },
    {
     "name": "stdout",
     "output_type": "stream",
     "text": [
      "[0, 1, 0]\n",
      "[0, 1, 0]\n",
      "[0, 1, 0]\n",
      "[0, 1, 0]\n",
      "[0, 1, 0]\n"
     ]
    },
    {
     "name": "stderr",
     "output_type": "stream",
     "text": [
      "[INFO] tello.py - 455 - Send command (no response expected): 'rc 3 15 0 0'\n",
      "[INFO] tello.py - 455 - Send command (no response expected): 'rc 3 15 0 0'\n",
      "[INFO] tello.py - 455 - Send command (no response expected): 'rc 3 15 0 0'\n",
      "[INFO] tello.py - 455 - Send command (no response expected): 'rc 3 15 0 0'\n",
      "[INFO] tello.py - 455 - Send command (no response expected): 'rc 3 15 0 0'\n"
     ]
    },
    {
     "name": "stdout",
     "output_type": "stream",
     "text": [
      "[0, 1, 0]\n",
      "[0, 1, 0]\n",
      "[0, 1, 0]\n",
      "[0, 1, 0]\n",
      "[0, 1, 0]\n"
     ]
    },
    {
     "name": "stderr",
     "output_type": "stream",
     "text": [
      "[INFO] tello.py - 455 - Send command (no response expected): 'rc 3 15 0 0'\n",
      "[INFO] tello.py - 455 - Send command (no response expected): 'rc 3 15 0 0'\n",
      "[INFO] tello.py - 455 - Send command (no response expected): 'rc 4 15 0 0'\n",
      "[INFO] tello.py - 455 - Send command (no response expected): 'rc 4 15 0 0'\n",
      "[INFO] tello.py - 455 - Send command (no response expected): 'rc 4 15 0 0'\n"
     ]
    },
    {
     "name": "stdout",
     "output_type": "stream",
     "text": [
      "[0, 1, 0]\n",
      "[0, 1, 0]\n",
      "[0, 1, 0]\n",
      "[0, 1, 0]\n",
      "[0, 1, 0]\n"
     ]
    },
    {
     "name": "stderr",
     "output_type": "stream",
     "text": [
      "[INFO] tello.py - 455 - Send command (no response expected): 'rc 4 15 0 0'\n",
      "[INFO] tello.py - 455 - Send command (no response expected): 'rc 4 15 0 0'\n",
      "[INFO] tello.py - 455 - Send command (no response expected): 'rc 4 15 0 0'\n",
      "[INFO] tello.py - 455 - Send command (no response expected): 'rc 4 15 0 0'\n",
      "[INFO] tello.py - 455 - Send command (no response expected): 'rc 4 15 0 0'\n"
     ]
    },
    {
     "name": "stdout",
     "output_type": "stream",
     "text": [
      "[0, 1, 0]\n",
      "[0, 1, 0]\n",
      "[0, 1, 0]\n",
      "[0, 1, 0]\n",
      "[0, 1, 0]\n"
     ]
    },
    {
     "name": "stderr",
     "output_type": "stream",
     "text": [
      "[INFO] tello.py - 455 - Send command (no response expected): 'rc 4 15 0 0'\n",
      "[INFO] tello.py - 455 - Send command (no response expected): 'rc 4 15 0 0'\n",
      "[INFO] tello.py - 455 - Send command (no response expected): 'rc 5 15 0 0'\n",
      "[INFO] tello.py - 455 - Send command (no response expected): 'rc 5 15 0 0'\n"
     ]
    },
    {
     "name": "stdout",
     "output_type": "stream",
     "text": [
      "[0, 1, 0]\n",
      "[0, 1, 0]\n",
      "[0, 1, 0]\n",
      "[0, 1, 0]\n"
     ]
    },
    {
     "name": "stderr",
     "output_type": "stream",
     "text": [
      "[INFO] tello.py - 455 - Send command (no response expected): 'rc 5 15 0 0'\n",
      "[INFO] tello.py - 455 - Send command (no response expected): 'rc 5 15 0 0'\n",
      "[INFO] tello.py - 455 - Send command (no response expected): 'rc 5 15 0 0'\n",
      "[INFO] tello.py - 455 - Send command (no response expected): 'rc 5 15 0 0'\n",
      "[INFO] tello.py - 455 - Send command (no response expected): 'rc 6 15 0 0'\n"
     ]
    },
    {
     "name": "stdout",
     "output_type": "stream",
     "text": [
      "[0, 1, 0]\n",
      "[0, 1, 0]\n",
      "[0, 1, 0]\n",
      "[0, 1, 0]\n",
      "[0, 1, 0]\n"
     ]
    },
    {
     "name": "stderr",
     "output_type": "stream",
     "text": [
      "[INFO] tello.py - 455 - Send command (no response expected): 'rc 6 15 0 0'\n",
      "[INFO] tello.py - 455 - Send command (no response expected): 'rc 6 15 0 0'\n",
      "[INFO] tello.py - 455 - Send command (no response expected): 'rc 6 15 0 0'\n",
      "[INFO] tello.py - 455 - Send command (no response expected): 'rc 6 15 0 0'\n",
      "[INFO] tello.py - 455 - Send command (no response expected): 'rc 6 15 0 0'\n"
     ]
    },
    {
     "name": "stdout",
     "output_type": "stream",
     "text": [
      "[0, 1, 0]\n",
      "[0, 1, 0]\n",
      "[0, 1, 0]\n",
      "[0, 1, 0]\n",
      "[0, 1, 0]\n"
     ]
    },
    {
     "name": "stderr",
     "output_type": "stream",
     "text": [
      "[INFO] tello.py - 455 - Send command (no response expected): 'rc 6 15 0 0'\n",
      "[INFO] tello.py - 455 - Send command (no response expected): 'rc 6 15 0 0'\n",
      "[INFO] tello.py - 455 - Send command (no response expected): 'rc 6 15 0 0'\n",
      "[INFO] tello.py - 455 - Send command (no response expected): 'rc 6 15 0 0'\n",
      "[INFO] tello.py - 455 - Send command (no response expected): 'rc 6 15 0 0'\n"
     ]
    },
    {
     "name": "stdout",
     "output_type": "stream",
     "text": [
      "[0, 1, 0]\n",
      "[0, 1, 0]\n",
      "[0, 1, 0]\n",
      "[0, 1, 0]\n",
      "[0, 1, 0]\n"
     ]
    },
    {
     "name": "stderr",
     "output_type": "stream",
     "text": [
      "[INFO] tello.py - 455 - Send command (no response expected): 'rc 6 15 0 0'\n",
      "[INFO] tello.py - 455 - Send command (no response expected): 'rc 6 15 0 0'\n",
      "[INFO] tello.py - 455 - Send command (no response expected): 'rc 6 15 0 0'\n",
      "[INFO] tello.py - 455 - Send command (no response expected): 'rc 6 15 0 0'\n",
      "[INFO] tello.py - 455 - Send command (no response expected): 'rc 6 15 0 0'\n"
     ]
    },
    {
     "name": "stdout",
     "output_type": "stream",
     "text": [
      "[0, 1, 0]\n",
      "[0, 1, 0]\n",
      "[0, 1, 0]\n",
      "[0, 1, 0]\n",
      "[0, 1, 0]\n"
     ]
    },
    {
     "name": "stderr",
     "output_type": "stream",
     "text": [
      "[INFO] tello.py - 455 - Send command (no response expected): 'rc 6 15 0 0'\n",
      "[INFO] tello.py - 455 - Send command (no response expected): 'rc 6 15 0 0'\n",
      "[INFO] tello.py - 455 - Send command (no response expected): 'rc 6 15 0 0'\n",
      "[INFO] tello.py - 455 - Send command (no response expected): 'rc 5 15 0 0'\n",
      "[INFO] tello.py - 455 - Send command (no response expected): 'rc 5 15 0 0'\n"
     ]
    },
    {
     "name": "stdout",
     "output_type": "stream",
     "text": [
      "[0, 1, 0]\n",
      "[0, 1, 0]\n",
      "[0, 1, 0]\n",
      "[0, 1, 0]\n",
      "[0, 1, 0]\n"
     ]
    },
    {
     "name": "stderr",
     "output_type": "stream",
     "text": [
      "[INFO] tello.py - 455 - Send command (no response expected): 'rc 5 15 0 0'\n",
      "[INFO] tello.py - 455 - Send command (no response expected): 'rc 5 15 0 0'\n",
      "[INFO] tello.py - 455 - Send command (no response expected): 'rc 5 15 0 0'\n",
      "[INFO] tello.py - 455 - Send command (no response expected): 'rc 4 15 0 0'\n",
      "[INFO] tello.py - 455 - Send command (no response expected): 'rc 4 15 0 0'\n"
     ]
    },
    {
     "name": "stdout",
     "output_type": "stream",
     "text": [
      "[0, 1, 0]\n",
      "[0, 1, 0]\n",
      "[0, 1, 0]\n",
      "[0, 1, 0]\n",
      "[0, 1, 0]\n"
     ]
    },
    {
     "name": "stderr",
     "output_type": "stream",
     "text": [
      "[INFO] tello.py - 455 - Send command (no response expected): 'rc 4 15 0 0'\n",
      "[INFO] tello.py - 455 - Send command (no response expected): 'rc 4 15 0 0'\n",
      "[INFO] tello.py - 455 - Send command (no response expected): 'rc 3 15 0 0'\n",
      "[INFO] tello.py - 455 - Send command (no response expected): 'rc 3 15 0 0'\n",
      "[INFO] tello.py - 455 - Send command (no response expected): 'rc 3 15 0 0'\n"
     ]
    },
    {
     "name": "stdout",
     "output_type": "stream",
     "text": [
      "[0, 1, 0]\n",
      "[0, 1, 0]\n",
      "[0, 1, 0]\n",
      "[0, 1, 0]\n",
      "[0, 1, 0]\n"
     ]
    },
    {
     "name": "stderr",
     "output_type": "stream",
     "text": [
      "[INFO] tello.py - 455 - Send command (no response expected): 'rc 2 15 0 0'\n",
      "[INFO] tello.py - 455 - Send command (no response expected): 'rc 2 15 0 0'\n",
      "[INFO] tello.py - 455 - Send command (no response expected): 'rc 2 15 0 0'\n",
      "[INFO] tello.py - 455 - Send command (no response expected): 'rc 0 15 0 0'\n",
      "[INFO] tello.py - 455 - Send command (no response expected): 'rc 0 15 0 0'\n"
     ]
    },
    {
     "name": "stdout",
     "output_type": "stream",
     "text": [
      "[0, 1, 0]\n",
      "[0, 1, 0]\n",
      "[0, 1, 0]\n",
      "[0, 1, 0]\n",
      "[0, 1, 0]\n"
     ]
    },
    {
     "name": "stderr",
     "output_type": "stream",
     "text": [
      "[INFO] tello.py - 455 - Send command (no response expected): 'rc 0 15 0 0'\n",
      "[INFO] tello.py - 455 - Send command (no response expected): 'rc 0 15 0 0'\n",
      "[INFO] tello.py - 455 - Send command (no response expected): 'rc 0 15 0 0'\n",
      "[INFO] tello.py - 455 - Send command (no response expected): 'rc 0 15 0 0'\n",
      "[INFO] tello.py - 455 - Send command (no response expected): 'rc 0 15 0 0'\n"
     ]
    },
    {
     "name": "stdout",
     "output_type": "stream",
     "text": [
      "[0, 1, 0]\n",
      "[0, 1, 0]\n",
      "[0, 1, 0]\n",
      "[0, 1, 0]\n",
      "[0, 1, 0]\n"
     ]
    },
    {
     "name": "stderr",
     "output_type": "stream",
     "text": [
      "[INFO] tello.py - 455 - Send command (no response expected): 'rc 0 15 0 0'\n",
      "[INFO] tello.py - 455 - Send command (no response expected): 'rc 0 15 0 0'\n",
      "[INFO] tello.py - 455 - Send command (no response expected): 'rc -2 15 0 0'\n",
      "[INFO] tello.py - 455 - Send command (no response expected): 'rc -2 15 0 0'\n",
      "[INFO] tello.py - 455 - Send command (no response expected): 'rc -2 15 0 0'\n"
     ]
    },
    {
     "name": "stdout",
     "output_type": "stream",
     "text": [
      "[0, 1, 0]\n",
      "[0, 1, 0]\n",
      "[0, 1, 0]\n",
      "[0, 1, 0]\n",
      "[0, 1, 0]\n"
     ]
    },
    {
     "name": "stderr",
     "output_type": "stream",
     "text": [
      "[INFO] tello.py - 455 - Send command (no response expected): 'rc -2 15 0 0'\n",
      "[INFO] tello.py - 455 - Send command (no response expected): 'rc -2 15 0 0'\n",
      "[INFO] tello.py - 455 - Send command (no response expected): 'rc -3 15 0 0'\n",
      "[INFO] tello.py - 455 - Send command (no response expected): 'rc -3 15 0 0'\n",
      "[INFO] tello.py - 455 - Send command (no response expected): 'rc -3 15 0 0'\n"
     ]
    },
    {
     "name": "stdout",
     "output_type": "stream",
     "text": [
      "[0, 1, 0]\n",
      "[0, 1, 0]\n",
      "[0, 1, 0]\n",
      "[0, 1, 0]\n",
      "[0, 1, 0]\n"
     ]
    },
    {
     "name": "stderr",
     "output_type": "stream",
     "text": [
      "[INFO] tello.py - 455 - Send command (no response expected): 'rc -3 15 0 0'\n",
      "[INFO] tello.py - 455 - Send command (no response expected): 'rc -4 15 0 0'\n",
      "[INFO] tello.py - 455 - Send command (no response expected): 'rc -4 15 0 0'\n",
      "[INFO] tello.py - 455 - Send command (no response expected): 'rc -4 15 0 0'\n",
      "[INFO] tello.py - 455 - Send command (no response expected): 'rc -4 15 0 0'\n"
     ]
    },
    {
     "name": "stdout",
     "output_type": "stream",
     "text": [
      "[0, 1, 0]\n",
      "[0, 1, 0]\n",
      "[0, 1, 0]\n",
      "[0, 1, 0]\n",
      "[0, 1, 0]\n"
     ]
    },
    {
     "name": "stderr",
     "output_type": "stream",
     "text": [
      "[INFO] tello.py - 455 - Send command (no response expected): 'rc -4 15 0 0'\n",
      "[INFO] tello.py - 455 - Send command (no response expected): 'rc -5 15 0 0'\n",
      "[INFO] tello.py - 455 - Send command (no response expected): 'rc -5 15 0 0'\n",
      "[INFO] tello.py - 455 - Send command (no response expected): 'rc -5 15 0 0'\n"
     ]
    },
    {
     "name": "stdout",
     "output_type": "stream",
     "text": [
      "[0, 1, 0]\n",
      "[0, 1, 0]\n",
      "[0, 1, 0]\n",
      "[0, 1, 0]\n"
     ]
    },
    {
     "name": "stderr",
     "output_type": "stream",
     "text": [
      "[INFO] tello.py - 455 - Send command (no response expected): 'rc -5 15 0 0'\n",
      "[INFO] tello.py - 455 - Send command (no response expected): 'rc -6 15 0 0'\n",
      "[INFO] tello.py - 455 - Send command (no response expected): 'rc -6 15 0 0'\n",
      "[INFO] tello.py - 455 - Send command (no response expected): 'rc -6 15 0 0'\n",
      "[INFO] tello.py - 455 - Send command (no response expected): 'rc -6 15 0 0'\n"
     ]
    },
    {
     "name": "stdout",
     "output_type": "stream",
     "text": [
      "[0, 1, 0]\n",
      "[0, 1, 0]\n",
      "[0, 1, 0]\n",
      "[0, 1, 0]\n",
      "[0, 1, 0]\n"
     ]
    },
    {
     "name": "stderr",
     "output_type": "stream",
     "text": [
      "[INFO] tello.py - 455 - Send command (no response expected): 'rc -6 15 0 0'\n",
      "[INFO] tello.py - 455 - Send command (no response expected): 'rc -6 15 0 0'\n",
      "[INFO] tello.py - 455 - Send command (no response expected): 'rc -7 15 0 0'\n",
      "[INFO] tello.py - 455 - Send command (no response expected): 'rc -7 15 0 0'\n",
      "[INFO] tello.py - 455 - Send command (no response expected): 'rc -7 15 0 0'\n"
     ]
    },
    {
     "name": "stdout",
     "output_type": "stream",
     "text": [
      "[0, 1, 0]\n",
      "[0, 1, 0]\n",
      "[0, 1, 0]\n",
      "[0, 1, 0]\n",
      "[0, 1, 0]\n"
     ]
    },
    {
     "name": "stderr",
     "output_type": "stream",
     "text": [
      "[INFO] tello.py - 455 - Send command (no response expected): 'rc -7 15 0 0'\n",
      "[INFO] tello.py - 455 - Send command (no response expected): 'rc -7 15 0 0'\n",
      "[INFO] tello.py - 455 - Send command (no response expected): 'rc -10 15 0 0'\n",
      "[INFO] tello.py - 455 - Send command (no response expected): 'rc -10 15 0 0'\n",
      "[INFO] tello.py - 455 - Send command (no response expected): 'rc -10 15 0 0'\n"
     ]
    },
    {
     "name": "stdout",
     "output_type": "stream",
     "text": [
      "[0, 1, 0]\n",
      "[0, 1, 0]\n",
      "[0, 1, 0]\n",
      "[0, 1, 0]\n",
      "[0, 1, 0]\n"
     ]
    },
    {
     "name": "stderr",
     "output_type": "stream",
     "text": [
      "[INFO] tello.py - 455 - Send command (no response expected): 'rc -10 15 0 0'\n",
      "[INFO] tello.py - 455 - Send command (no response expected): 'rc -10 15 0 0'\n",
      "[INFO] tello.py - 455 - Send command (no response expected): 'rc -10 15 0 0'\n",
      "[INFO] tello.py - 455 - Send command (no response expected): 'rc -10 15 0 0'\n",
      "[INFO] tello.py - 455 - Send command (no response expected): 'rc -10 15 0 0'\n"
     ]
    },
    {
     "name": "stdout",
     "output_type": "stream",
     "text": [
      "[0, 1, 0]\n",
      "[0, 1, 0]\n",
      "[0, 1, 0]\n",
      "[0, 1, 0]\n",
      "[0, 1, 0]\n"
     ]
    },
    {
     "name": "stderr",
     "output_type": "stream",
     "text": [
      "[INFO] tello.py - 455 - Send command (no response expected): 'rc -10 15 0 0'\n",
      "[INFO] tello.py - 455 - Send command (no response expected): 'rc -10 15 0 0'\n",
      "[INFO] tello.py - 455 - Send command (no response expected): 'rc -10 15 0 0'\n",
      "[INFO] tello.py - 455 - Send command (no response expected): 'rc -10 15 0 0'\n",
      "[INFO] tello.py - 455 - Send command (no response expected): 'rc -10 15 0 0'\n"
     ]
    },
    {
     "name": "stdout",
     "output_type": "stream",
     "text": [
      "[0, 1, 0]\n",
      "[0, 1, 0]\n",
      "[0, 1, 0]\n",
      "[0, 1, 0]\n",
      "[0, 1, 0]\n"
     ]
    },
    {
     "name": "stderr",
     "output_type": "stream",
     "text": [
      "[INFO] tello.py - 455 - Send command (no response expected): 'rc -10 15 0 0'\n",
      "[INFO] tello.py - 455 - Send command (no response expected): 'rc -10 15 0 0'\n",
      "[INFO] tello.py - 455 - Send command (no response expected): 'rc -10 15 0 0'\n",
      "[INFO] tello.py - 455 - Send command (no response expected): 'rc -10 15 0 0'\n",
      "[INFO] tello.py - 455 - Send command (no response expected): 'rc -10 15 0 0'\n"
     ]
    },
    {
     "name": "stdout",
     "output_type": "stream",
     "text": [
      "[0, 1, 0]\n",
      "[0, 1, 0]\n",
      "[0, 1, 0]\n",
      "[0, 1, 0]\n",
      "[0, 1, 0]\n"
     ]
    },
    {
     "name": "stderr",
     "output_type": "stream",
     "text": [
      "[INFO] tello.py - 455 - Send command (no response expected): 'rc -10 15 0 0'\n",
      "[INFO] tello.py - 455 - Send command (no response expected): 'rc -10 15 0 0'\n",
      "[INFO] tello.py - 455 - Send command (no response expected): 'rc -10 15 0 0'\n",
      "[INFO] tello.py - 455 - Send command (no response expected): 'rc -10 15 0 0'\n",
      "[INFO] tello.py - 455 - Send command (no response expected): 'rc -10 15 0 0'\n"
     ]
    },
    {
     "name": "stdout",
     "output_type": "stream",
     "text": [
      "[0, 1, 0]\n",
      "[0, 1, 0]\n",
      "[0, 1, 0]\n",
      "[0, 1, 0]\n",
      "[0, 1, 0]\n"
     ]
    },
    {
     "name": "stderr",
     "output_type": "stream",
     "text": [
      "[INFO] tello.py - 455 - Send command (no response expected): 'rc -10 15 0 0'\n",
      "[INFO] tello.py - 455 - Send command (no response expected): 'rc -10 15 0 0'\n",
      "[INFO] tello.py - 455 - Send command (no response expected): 'rc -10 15 0 0'\n",
      "[INFO] tello.py - 455 - Send command (no response expected): 'rc -10 15 0 0'\n",
      "[INFO] tello.py - 455 - Send command (no response expected): 'rc -10 15 0 0'\n"
     ]
    },
    {
     "name": "stdout",
     "output_type": "stream",
     "text": [
      "[0, 1, 0]\n",
      "[0, 1, 0]\n",
      "[0, 1, 0]\n",
      "[0, 1, 0]\n",
      "[0, 1, 0]\n"
     ]
    },
    {
     "name": "stderr",
     "output_type": "stream",
     "text": [
      "[INFO] tello.py - 455 - Send command (no response expected): 'rc -10 15 0 0'\n",
      "[INFO] tello.py - 455 - Send command (no response expected): 'rc -10 15 0 0'\n",
      "[INFO] tello.py - 455 - Send command (no response expected): 'rc -10 15 0 0'\n",
      "[INFO] tello.py - 455 - Send command (no response expected): 'rc -10 15 0 0'\n"
     ]
    },
    {
     "name": "stdout",
     "output_type": "stream",
     "text": [
      "[0, 1, 0]\n",
      "[0, 1, 0]\n",
      "[0, 1, 0]\n",
      "[0, 1, 0]\n"
     ]
    },
    {
     "name": "stderr",
     "output_type": "stream",
     "text": [
      "[INFO] tello.py - 455 - Send command (no response expected): 'rc -10 15 0 0'\n",
      "[INFO] tello.py - 455 - Send command (no response expected): 'rc -10 15 0 0'\n",
      "[INFO] tello.py - 455 - Send command (no response expected): 'rc -7 15 0 0'\n",
      "[INFO] tello.py - 455 - Send command (no response expected): 'rc -7 15 0 0'\n",
      "[INFO] tello.py - 455 - Send command (no response expected): 'rc -7 15 0 0'\n"
     ]
    },
    {
     "name": "stdout",
     "output_type": "stream",
     "text": [
      "[0, 1, 0]\n",
      "[0, 1, 0]\n",
      "[0, 1, 0]\n",
      "[0, 1, 0]\n",
      "[0, 1, 0]\n"
     ]
    },
    {
     "name": "stderr",
     "output_type": "stream",
     "text": [
      "[INFO] tello.py - 455 - Send command (no response expected): 'rc -7 15 0 0'\n",
      "[INFO] tello.py - 455 - Send command (no response expected): 'rc -7 15 0 0'\n",
      "[INFO] tello.py - 455 - Send command (no response expected): 'rc -7 15 0 0'\n",
      "[INFO] tello.py - 455 - Send command (no response expected): 'rc -7 15 0 0'\n",
      "[INFO] tello.py - 455 - Send command (no response expected): 'rc -7 15 0 0'\n"
     ]
    },
    {
     "name": "stdout",
     "output_type": "stream",
     "text": [
      "[0, 1, 0]\n",
      "[0, 1, 0]\n",
      "[0, 1, 0]\n",
      "[0, 1, 0]\n",
      "[0, 1, 0]\n"
     ]
    },
    {
     "name": "stderr",
     "output_type": "stream",
     "text": [
      "[INFO] tello.py - 455 - Send command (no response expected): 'rc -7 15 0 0'\n",
      "[INFO] tello.py - 455 - Send command (no response expected): 'rc -7 15 0 0'\n",
      "[INFO] tello.py - 455 - Send command (no response expected): 'rc -7 15 0 0'\n",
      "[INFO] tello.py - 455 - Send command (no response expected): 'rc -7 15 0 0'\n",
      "[INFO] tello.py - 455 - Send command (no response expected): 'rc -8 15 0 0'\n"
     ]
    },
    {
     "name": "stdout",
     "output_type": "stream",
     "text": [
      "[0, 1, 0]\n",
      "[0, 1, 0]\n",
      "[0, 1, 0]\n",
      "[0, 1, 0]\n",
      "[0, 1, 0]\n"
     ]
    },
    {
     "name": "stderr",
     "output_type": "stream",
     "text": [
      "[INFO] tello.py - 455 - Send command (no response expected): 'rc -8 15 0 0'\n",
      "[INFO] tello.py - 455 - Send command (no response expected): 'rc -8 15 0 0'\n",
      "[INFO] tello.py - 455 - Send command (no response expected): 'rc -9 15 0 0'\n",
      "[INFO] tello.py - 455 - Send command (no response expected): 'rc -10 15 0 0'\n"
     ]
    },
    {
     "name": "stdout",
     "output_type": "stream",
     "text": [
      "[0, 1, 0]\n",
      "[0, 1, 0]\n",
      "[0, 1, 0]\n",
      "[0, 1, 0]\n"
     ]
    },
    {
     "name": "stderr",
     "output_type": "stream",
     "text": [
      "[INFO] tello.py - 455 - Send command (no response expected): 'rc -10 15 0 0'\n",
      "[INFO] tello.py - 455 - Send command (no response expected): 'rc -10 15 0 0'\n",
      "[INFO] tello.py - 455 - Send command (no response expected): 'rc -10 15 0 0'\n",
      "[INFO] tello.py - 455 - Send command (no response expected): 'rc -10 15 0 0'\n",
      "[INFO] tello.py - 455 - Send command (no response expected): 'rc -10 15 0 0'\n"
     ]
    },
    {
     "name": "stdout",
     "output_type": "stream",
     "text": [
      "[0, 1, 0]\n",
      "[0, 1, 0]\n",
      "[0, 1, 0]\n",
      "[0, 1, 0]\n",
      "[0, 1, 0]\n"
     ]
    },
    {
     "name": "stderr",
     "output_type": "stream",
     "text": [
      "[INFO] tello.py - 455 - Send command (no response expected): 'rc -10 15 0 0'\n",
      "[INFO] tello.py - 455 - Send command (no response expected): 'rc -10 15 0 0'\n",
      "[INFO] tello.py - 455 - Send command (no response expected): 'rc -10 15 0 0'\n",
      "[INFO] tello.py - 455 - Send command (no response expected): 'rc -10 15 0 0'\n"
     ]
    },
    {
     "name": "stdout",
     "output_type": "stream",
     "text": [
      "[0, 1, 0]\n",
      "[0, 1, 0]\n",
      "[0, 1, 0]\n",
      "[0, 1, 0]\n"
     ]
    },
    {
     "name": "stderr",
     "output_type": "stream",
     "text": [
      "[INFO] tello.py - 455 - Send command (no response expected): 'rc -10 15 0 0'\n",
      "[INFO] tello.py - 455 - Send command (no response expected): 'rc -10 15 0 0'\n",
      "[INFO] tello.py - 455 - Send command (no response expected): 'rc -10 15 0 0'\n",
      "[INFO] tello.py - 455 - Send command (no response expected): 'rc -10 15 0 0'\n",
      "[INFO] tello.py - 455 - Send command (no response expected): 'rc -10 15 0 0'\n"
     ]
    },
    {
     "name": "stdout",
     "output_type": "stream",
     "text": [
      "[0, 1, 0]\n",
      "[0, 1, 0]\n",
      "[0, 1, 0]\n",
      "[0, 1, 0]\n",
      "[0, 1, 0]\n"
     ]
    },
    {
     "name": "stderr",
     "output_type": "stream",
     "text": [
      "[INFO] tello.py - 455 - Send command (no response expected): 'rc -10 15 0 0'\n",
      "[INFO] tello.py - 455 - Send command (no response expected): 'rc -10 15 0 0'\n",
      "[INFO] tello.py - 455 - Send command (no response expected): 'rc -10 15 0 0'\n",
      "[INFO] tello.py - 455 - Send command (no response expected): 'rc -10 15 0 0'\n"
     ]
    },
    {
     "name": "stdout",
     "output_type": "stream",
     "text": [
      "[0, 1, 0]\n",
      "[0, 1, 0]\n",
      "[0, 1, 0]\n",
      "[0, 1, 0]\n"
     ]
    },
    {
     "name": "stderr",
     "output_type": "stream",
     "text": [
      "[INFO] tello.py - 455 - Send command (no response expected): 'rc -10 15 0 0'\n",
      "[INFO] tello.py - 455 - Send command (no response expected): 'rc -10 15 0 0'\n",
      "[INFO] tello.py - 455 - Send command (no response expected): 'rc -10 15 0 0'\n",
      "[INFO] tello.py - 455 - Send command (no response expected): 'rc -10 15 0 -25'\n",
      "[INFO] tello.py - 455 - Send command (no response expected): 'rc -10 15 0 -25'\n"
     ]
    },
    {
     "name": "stdout",
     "output_type": "stream",
     "text": [
      "[0, 1, 0]\n",
      "[0, 1, 0]\n",
      "[0, 1, 0]\n",
      "[1, 1, 0]\n",
      "[1, 1, 0]\n"
     ]
    },
    {
     "name": "stderr",
     "output_type": "stream",
     "text": [
      "[INFO] tello.py - 455 - Send command (no response expected): 'rc -10 15 0 -25'\n",
      "[INFO] tello.py - 455 - Send command (no response expected): 'rc -10 15 0 -25'\n",
      "[INFO] tello.py - 455 - Send command (no response expected): 'rc -10 15 0 -25'\n",
      "[INFO] tello.py - 455 - Send command (no response expected): 'rc -10 15 0 -25'\n",
      "[INFO] tello.py - 455 - Send command (no response expected): 'rc -10 15 0 -25'\n"
     ]
    },
    {
     "name": "stdout",
     "output_type": "stream",
     "text": [
      "[1, 1, 0]\n",
      "[1, 1, 0]\n",
      "[1, 1, 0]\n",
      "[1, 1, 0]\n",
      "[1, 1, 0]\n"
     ]
    },
    {
     "name": "stderr",
     "output_type": "stream",
     "text": [
      "[INFO] tello.py - 455 - Send command (no response expected): 'rc -10 15 0 -25'\n",
      "[INFO] tello.py - 455 - Send command (no response expected): 'rc -10 15 0 -25'\n",
      "[INFO] tello.py - 455 - Send command (no response expected): 'rc -10 15 0 -25'\n",
      "[INFO] tello.py - 455 - Send command (no response expected): 'rc -10 15 0 0'\n",
      "[INFO] tello.py - 455 - Send command (no response expected): 'rc -10 15 0 0'\n"
     ]
    },
    {
     "name": "stdout",
     "output_type": "stream",
     "text": [
      "[1, 1, 0]\n",
      "[1, 1, 0]\n",
      "[1, 1, 0]\n",
      "[0, 1, 0]\n",
      "[0, 1, 0]\n"
     ]
    },
    {
     "name": "stderr",
     "output_type": "stream",
     "text": [
      "[INFO] tello.py - 455 - Send command (no response expected): 'rc -10 15 0 0'\n",
      "[INFO] tello.py - 455 - Send command (no response expected): 'rc -10 15 0 0'\n",
      "[INFO] tello.py - 455 - Send command (no response expected): 'rc -10 15 0 0'\n",
      "[INFO] tello.py - 455 - Send command (no response expected): 'rc -10 15 0 0'\n",
      "[INFO] tello.py - 455 - Send command (no response expected): 'rc -10 15 0 0'\n"
     ]
    },
    {
     "name": "stdout",
     "output_type": "stream",
     "text": [
      "[0, 1, 0]\n",
      "[0, 1, 0]\n",
      "[0, 1, 0]\n",
      "[0, 1, 0]\n",
      "[0, 1, 0]\n"
     ]
    },
    {
     "name": "stderr",
     "output_type": "stream",
     "text": [
      "[INFO] tello.py - 455 - Send command (no response expected): 'rc -10 15 0 0'\n",
      "[INFO] tello.py - 455 - Send command (no response expected): 'rc -10 15 0 0'\n",
      "[INFO] tello.py - 455 - Send command (no response expected): 'rc -10 15 0 0'\n",
      "[INFO] tello.py - 455 - Send command (no response expected): 'rc -10 15 0 0'\n",
      "[INFO] tello.py - 455 - Send command (no response expected): 'rc -10 15 0 0'\n"
     ]
    },
    {
     "name": "stdout",
     "output_type": "stream",
     "text": [
      "[0, 1, 0]\n",
      "[0, 1, 0]\n",
      "[0, 1, 0]\n",
      "[0, 1, 0]\n",
      "[0, 1, 0]\n"
     ]
    },
    {
     "name": "stderr",
     "output_type": "stream",
     "text": [
      "[INFO] tello.py - 455 - Send command (no response expected): 'rc -10 15 0 0'\n",
      "[INFO] tello.py - 455 - Send command (no response expected): 'rc -10 15 0 0'\n",
      "[INFO] tello.py - 455 - Send command (no response expected): 'rc -10 15 0 0'\n",
      "[INFO] tello.py - 455 - Send command (no response expected): 'rc -10 15 0 0'\n"
     ]
    },
    {
     "name": "stdout",
     "output_type": "stream",
     "text": [
      "[0, 1, 0]\n",
      "[0, 1, 0]\n",
      "[0, 1, 0]\n",
      "[0, 1, 0]\n"
     ]
    },
    {
     "name": "stderr",
     "output_type": "stream",
     "text": [
      "[INFO] tello.py - 455 - Send command (no response expected): 'rc -10 15 0 0'\n",
      "[INFO] tello.py - 455 - Send command (no response expected): 'rc -10 15 0 0'\n",
      "[INFO] tello.py - 455 - Send command (no response expected): 'rc -10 15 0 0'\n",
      "[INFO] tello.py - 455 - Send command (no response expected): 'rc -10 15 0 0'\n",
      "[INFO] tello.py - 455 - Send command (no response expected): 'rc -10 15 0 0'\n"
     ]
    },
    {
     "name": "stdout",
     "output_type": "stream",
     "text": [
      "[0, 1, 0]\n",
      "[0, 1, 0]\n",
      "[0, 1, 0]\n",
      "[0, 1, 0]\n",
      "[0, 1, 0]\n"
     ]
    },
    {
     "name": "stderr",
     "output_type": "stream",
     "text": [
      "[INFO] tello.py - 455 - Send command (no response expected): 'rc -10 15 0 0'\n",
      "[INFO] tello.py - 455 - Send command (no response expected): 'rc -10 15 0 0'\n",
      "[INFO] tello.py - 455 - Send command (no response expected): 'rc -10 15 0 0'\n",
      "[INFO] tello.py - 455 - Send command (no response expected): 'rc -10 15 0 0'\n",
      "[INFO] tello.py - 455 - Send command (no response expected): 'rc -10 15 0 0'\n",
      "[INFO] tello.py - 455 - Send command (no response expected): 'rc -10 15 0 0'\n"
     ]
    },
    {
     "name": "stdout",
     "output_type": "stream",
     "text": [
      "[0, 1, 0]\n",
      "[0, 1, 0]\n",
      "[0, 1, 0]\n",
      "[0, 1, 0]\n",
      "[0, 1, 0]\n",
      "[0, 1, 0]\n"
     ]
    },
    {
     "name": "stderr",
     "output_type": "stream",
     "text": [
      "[INFO] tello.py - 455 - Send command (no response expected): 'rc -10 15 0 0'\n",
      "[INFO] tello.py - 455 - Send command (no response expected): 'rc -10 15 0 0'\n",
      "[INFO] tello.py - 455 - Send command (no response expected): 'rc -10 15 0 0'\n",
      "[INFO] tello.py - 455 - Send command (no response expected): 'rc -10 15 0 0'\n"
     ]
    },
    {
     "name": "stdout",
     "output_type": "stream",
     "text": [
      "[0, 1, 0]\n",
      "[0, 1, 0]\n",
      "[0, 1, 0]\n",
      "[0, 1, 0]\n"
     ]
    },
    {
     "name": "stderr",
     "output_type": "stream",
     "text": [
      "[INFO] tello.py - 455 - Send command (no response expected): 'rc -10 15 0 0'\n",
      "[INFO] tello.py - 455 - Send command (no response expected): 'rc -10 15 0 0'\n",
      "[INFO] tello.py - 455 - Send command (no response expected): 'rc -10 15 0 0'\n",
      "[INFO] tello.py - 455 - Send command (no response expected): 'rc -10 15 0 0'\n",
      "[INFO] tello.py - 455 - Send command (no response expected): 'rc -10 15 0 0'\n"
     ]
    },
    {
     "name": "stdout",
     "output_type": "stream",
     "text": [
      "[0, 1, 0]\n",
      "[0, 1, 0]\n",
      "[0, 1, 0]\n",
      "[0, 1, 0]\n",
      "[0, 1, 0]\n"
     ]
    },
    {
     "name": "stderr",
     "output_type": "stream",
     "text": [
      "[INFO] tello.py - 455 - Send command (no response expected): 'rc -10 15 0 0'\n",
      "[INFO] tello.py - 455 - Send command (no response expected): 'rc -10 15 0 0'\n",
      "[INFO] tello.py - 455 - Send command (no response expected): 'rc -10 15 0 0'\n",
      "[INFO] tello.py - 455 - Send command (no response expected): 'rc -10 15 0 0'\n"
     ]
    },
    {
     "name": "stdout",
     "output_type": "stream",
     "text": [
      "[0, 1, 0]\n",
      "[0, 1, 0]\n",
      "[0, 1, 0]\n",
      "[0, 1, 0]\n"
     ]
    },
    {
     "name": "stderr",
     "output_type": "stream",
     "text": [
      "[INFO] tello.py - 455 - Send command (no response expected): 'rc -10 15 0 0'\n",
      "[INFO] tello.py - 455 - Send command (no response expected): 'rc -10 15 0 0'\n",
      "[INFO] tello.py - 455 - Send command (no response expected): 'rc -10 15 0 0'\n",
      "[INFO] tello.py - 455 - Send command (no response expected): 'rc -10 15 0 0'\n",
      "[INFO] tello.py - 455 - Send command (no response expected): 'rc -10 15 0 0'\n",
      "[INFO] tello.py - 455 - Send command (no response expected): 'rc -10 15 0 0'\n"
     ]
    },
    {
     "name": "stdout",
     "output_type": "stream",
     "text": [
      "[0, 1, 0]\n",
      "[0, 1, 0]\n",
      "[0, 1, 0]\n",
      "[0, 1, 0]\n",
      "[0, 1, 0]\n",
      "[0, 1, 0]\n"
     ]
    },
    {
     "name": "stderr",
     "output_type": "stream",
     "text": [
      "[INFO] tello.py - 455 - Send command (no response expected): 'rc -10 15 0 0'\n",
      "[INFO] tello.py - 455 - Send command (no response expected): 'rc -10 15 0 0'\n",
      "[INFO] tello.py - 455 - Send command (no response expected): 'rc -10 15 0 0'\n",
      "[INFO] tello.py - 455 - Send command (no response expected): 'rc -10 15 0 0'\n",
      "[INFO] tello.py - 455 - Send command (no response expected): 'rc -10 15 0 0'\n"
     ]
    },
    {
     "name": "stdout",
     "output_type": "stream",
     "text": [
      "[0, 1, 0]\n",
      "[0, 1, 0]\n",
      "[0, 1, 0]\n",
      "[0, 1, 0]\n",
      "[0, 1, 0]\n"
     ]
    },
    {
     "name": "stderr",
     "output_type": "stream",
     "text": [
      "[INFO] tello.py - 455 - Send command (no response expected): 'rc -10 15 0 0'\n",
      "[INFO] tello.py - 455 - Send command (no response expected): 'rc -10 15 0 0'\n",
      "[INFO] tello.py - 455 - Send command (no response expected): 'rc -10 15 0 0'\n",
      "[INFO] tello.py - 455 - Send command (no response expected): 'rc -10 15 0 0'\n",
      "[INFO] tello.py - 455 - Send command (no response expected): 'rc -10 15 0 0'\n"
     ]
    },
    {
     "name": "stdout",
     "output_type": "stream",
     "text": [
      "[0, 1, 0]\n",
      "[0, 1, 0]\n",
      "[0, 1, 0]\n",
      "[0, 1, 0]\n",
      "[0, 1, 0]\n"
     ]
    },
    {
     "name": "stderr",
     "output_type": "stream",
     "text": [
      "[INFO] tello.py - 455 - Send command (no response expected): 'rc -10 15 0 0'\n",
      "[INFO] tello.py - 455 - Send command (no response expected): 'rc -10 15 0 0'\n",
      "[INFO] tello.py - 455 - Send command (no response expected): 'rc -10 15 0 0'\n",
      "[INFO] tello.py - 455 - Send command (no response expected): 'rc -10 15 0 0'\n"
     ]
    },
    {
     "name": "stdout",
     "output_type": "stream",
     "text": [
      "[0, 1, 0]\n",
      "[0, 1, 0]\n",
      "[0, 1, 0]\n",
      "[0, 1, 0]\n"
     ]
    },
    {
     "name": "stderr",
     "output_type": "stream",
     "text": [
      "[INFO] tello.py - 455 - Send command (no response expected): 'rc -10 15 0 0'\n",
      "[INFO] tello.py - 455 - Send command (no response expected): 'rc -10 15 0 0'\n",
      "[INFO] tello.py - 455 - Send command (no response expected): 'rc -10 15 0 0'\n",
      "[INFO] tello.py - 455 - Send command (no response expected): 'rc -10 15 0 0'\n",
      "[INFO] tello.py - 455 - Send command (no response expected): 'rc -10 15 0 0'\n"
     ]
    },
    {
     "name": "stdout",
     "output_type": "stream",
     "text": [
      "[0, 1, 0]\n",
      "[0, 1, 0]\n",
      "[0, 1, 0]\n",
      "[0, 1, 0]\n",
      "[0, 1, 0]\n"
     ]
    },
    {
     "name": "stderr",
     "output_type": "stream",
     "text": [
      "[INFO] tello.py - 455 - Send command (no response expected): 'rc -10 15 0 0'\n",
      "[INFO] tello.py - 455 - Send command (no response expected): 'rc -10 15 0 0'\n",
      "[INFO] tello.py - 455 - Send command (no response expected): 'rc -10 15 0 0'\n",
      "[INFO] tello.py - 455 - Send command (no response expected): 'rc -10 15 0 0'\n"
     ]
    },
    {
     "name": "stdout",
     "output_type": "stream",
     "text": [
      "[0, 1, 0]\n",
      "[0, 1, 0]\n",
      "[0, 1, 0]\n",
      "[0, 1, 0]\n"
     ]
    },
    {
     "name": "stderr",
     "output_type": "stream",
     "text": [
      "[INFO] tello.py - 455 - Send command (no response expected): 'rc -10 15 0 0'\n",
      "[INFO] tello.py - 455 - Send command (no response expected): 'rc -10 15 0 0'\n",
      "[INFO] tello.py - 455 - Send command (no response expected): 'rc -10 15 0 0'\n",
      "[INFO] tello.py - 455 - Send command (no response expected): 'rc -10 15 0 0'\n",
      "[INFO] tello.py - 455 - Send command (no response expected): 'rc -10 15 0 0'\n"
     ]
    },
    {
     "name": "stdout",
     "output_type": "stream",
     "text": [
      "[0, 1, 0]\n",
      "[0, 1, 0]\n",
      "[0, 1, 0]\n",
      "[0, 1, 0]\n",
      "[0, 1, 0]\n"
     ]
    },
    {
     "name": "stderr",
     "output_type": "stream",
     "text": [
      "[INFO] tello.py - 455 - Send command (no response expected): 'rc -10 15 0 0'\n",
      "[INFO] tello.py - 455 - Send command (no response expected): 'rc -10 15 0 0'\n",
      "[INFO] tello.py - 455 - Send command (no response expected): 'rc -10 15 0 0'\n",
      "[INFO] tello.py - 455 - Send command (no response expected): 'rc -10 15 0 0'\n"
     ]
    },
    {
     "name": "stdout",
     "output_type": "stream",
     "text": [
      "[0, 1, 0]\n",
      "[0, 1, 0]\n",
      "[0, 1, 0]\n",
      "[0, 1, 0]\n"
     ]
    },
    {
     "name": "stderr",
     "output_type": "stream",
     "text": [
      "[INFO] tello.py - 455 - Send command (no response expected): 'rc -10 15 0 0'\n",
      "[INFO] tello.py - 455 - Send command (no response expected): 'rc -10 15 0 0'\n",
      "[INFO] tello.py - 455 - Send command (no response expected): 'rc -10 15 0 0'\n",
      "[INFO] tello.py - 455 - Send command (no response expected): 'rc -10 15 0 0'\n"
     ]
    },
    {
     "name": "stdout",
     "output_type": "stream",
     "text": [
      "[0, 1, 0]\n",
      "[0, 1, 0]\n",
      "[0, 1, 0]\n",
      "[0, 1, 0]\n"
     ]
    },
    {
     "name": "stderr",
     "output_type": "stream",
     "text": [
      "[INFO] tello.py - 455 - Send command (no response expected): 'rc -10 15 0 0'\n",
      "[INFO] tello.py - 455 - Send command (no response expected): 'rc -10 15 0 0'\n",
      "[INFO] tello.py - 455 - Send command (no response expected): 'rc -10 15 0 0'\n",
      "[INFO] tello.py - 455 - Send command (no response expected): 'rc -10 15 0 0'\n",
      "[INFO] tello.py - 455 - Send command (no response expected): 'rc -10 15 0 0'\n"
     ]
    },
    {
     "name": "stdout",
     "output_type": "stream",
     "text": [
      "[0, 1, 0]\n",
      "[0, 1, 0]\n",
      "[0, 1, 0]\n",
      "[0, 1, 0]\n",
      "[0, 1, 0]\n"
     ]
    },
    {
     "name": "stderr",
     "output_type": "stream",
     "text": [
      "[INFO] tello.py - 455 - Send command (no response expected): 'rc -10 15 0 0'\n",
      "[INFO] tello.py - 455 - Send command (no response expected): 'rc -10 15 0 0'\n",
      "[INFO] tello.py - 455 - Send command (no response expected): 'rc -10 15 0 0'\n",
      "[INFO] tello.py - 455 - Send command (no response expected): 'rc -10 15 0 0'\n",
      "[INFO] tello.py - 455 - Send command (no response expected): 'rc -10 15 0 0'\n"
     ]
    },
    {
     "name": "stdout",
     "output_type": "stream",
     "text": [
      "[0, 1, 0]\n",
      "[0, 1, 0]\n",
      "[0, 1, 0]\n",
      "[0, 1, 0]\n",
      "[0, 1, 0]\n"
     ]
    },
    {
     "name": "stderr",
     "output_type": "stream",
     "text": [
      "[INFO] tello.py - 455 - Send command (no response expected): 'rc -10 15 0 0'\n",
      "[INFO] tello.py - 455 - Send command (no response expected): 'rc -10 15 0 0'\n",
      "[INFO] tello.py - 455 - Send command (no response expected): 'rc -10 15 0 0'\n",
      "[INFO] tello.py - 455 - Send command (no response expected): 'rc -10 15 0 0'\n",
      "[INFO] tello.py - 455 - Send command (no response expected): 'rc -10 15 0 0'\n"
     ]
    },
    {
     "name": "stdout",
     "output_type": "stream",
     "text": [
      "[0, 1, 0]\n",
      "[0, 1, 0]\n",
      "[0, 1, 0]\n",
      "[0, 1, 0]\n",
      "[0, 1, 0]\n"
     ]
    },
    {
     "name": "stderr",
     "output_type": "stream",
     "text": [
      "[INFO] tello.py - 455 - Send command (no response expected): 'rc -10 15 0 0'\n",
      "[INFO] tello.py - 455 - Send command (no response expected): 'rc -10 15 0 0'\n",
      "[INFO] tello.py - 455 - Send command (no response expected): 'rc -10 15 0 0'\n",
      "[INFO] tello.py - 455 - Send command (no response expected): 'rc -10 15 0 0'\n"
     ]
    },
    {
     "name": "stdout",
     "output_type": "stream",
     "text": [
      "[0, 1, 0]\n",
      "[0, 1, 0]\n",
      "[0, 1, 0]\n",
      "[0, 1, 0]\n"
     ]
    },
    {
     "name": "stderr",
     "output_type": "stream",
     "text": [
      "[INFO] tello.py - 455 - Send command (no response expected): 'rc -10 15 0 0'\n",
      "[INFO] tello.py - 455 - Send command (no response expected): 'rc -10 15 0 0'\n",
      "[INFO] tello.py - 455 - Send command (no response expected): 'rc -10 15 0 0'\n",
      "[INFO] tello.py - 455 - Send command (no response expected): 'rc -10 15 0 0'\n",
      "[INFO] tello.py - 455 - Send command (no response expected): 'rc -10 15 0 0'\n"
     ]
    },
    {
     "name": "stdout",
     "output_type": "stream",
     "text": [
      "[0, 1, 0]\n",
      "[0, 1, 0]\n",
      "[0, 1, 0]\n",
      "[0, 1, 0]\n",
      "[0, 1, 0]\n"
     ]
    },
    {
     "name": "stderr",
     "output_type": "stream",
     "text": [
      "[INFO] tello.py - 455 - Send command (no response expected): 'rc -10 15 0 0'\n",
      "[INFO] tello.py - 455 - Send command (no response expected): 'rc -10 15 0 0'\n",
      "[INFO] tello.py - 455 - Send command (no response expected): 'rc -10 15 0 0'\n",
      "[INFO] tello.py - 455 - Send command (no response expected): 'rc -10 15 0 0'\n",
      "[INFO] tello.py - 455 - Send command (no response expected): 'rc -10 15 0 0'\n"
     ]
    },
    {
     "name": "stdout",
     "output_type": "stream",
     "text": [
      "[0, 1, 0]\n",
      "[0, 1, 0]\n",
      "[0, 1, 0]\n",
      "[0, 1, 0]\n",
      "[0, 1, 0]\n"
     ]
    },
    {
     "name": "stderr",
     "output_type": "stream",
     "text": [
      "[INFO] tello.py - 455 - Send command (no response expected): 'rc -10 15 0 0'\n",
      "[INFO] tello.py - 455 - Send command (no response expected): 'rc -10 15 0 0'\n",
      "[INFO] tello.py - 455 - Send command (no response expected): 'rc -10 15 0 0'\n",
      "[INFO] tello.py - 455 - Send command (no response expected): 'rc -10 15 0 0'\n"
     ]
    },
    {
     "name": "stdout",
     "output_type": "stream",
     "text": [
      "[0, 1, 0]\n",
      "[0, 1, 0]\n",
      "[0, 1, 0]\n",
      "[0, 1, 0]\n"
     ]
    },
    {
     "name": "stderr",
     "output_type": "stream",
     "text": [
      "[INFO] tello.py - 455 - Send command (no response expected): 'rc -10 15 0 0'\n",
      "[INFO] tello.py - 455 - Send command (no response expected): 'rc -10 15 0 0'\n",
      "[INFO] tello.py - 455 - Send command (no response expected): 'rc -10 15 0 0'\n",
      "[INFO] tello.py - 455 - Send command (no response expected): 'rc -10 15 0 0'\n",
      "[INFO] tello.py - 455 - Send command (no response expected): 'rc -10 15 0 0'\n"
     ]
    },
    {
     "name": "stdout",
     "output_type": "stream",
     "text": [
      "[0, 1, 0]\n",
      "[0, 1, 0]\n",
      "[0, 1, 0]\n",
      "[0, 1, 0]\n",
      "[0, 1, 0]\n"
     ]
    },
    {
     "name": "stderr",
     "output_type": "stream",
     "text": [
      "[INFO] tello.py - 455 - Send command (no response expected): 'rc -10 15 0 0'\n",
      "[INFO] tello.py - 455 - Send command (no response expected): 'rc -10 15 0 0'\n",
      "[INFO] tello.py - 455 - Send command (no response expected): 'rc -10 15 0 0'\n",
      "[INFO] tello.py - 455 - Send command (no response expected): 'rc -10 15 0 0'\n",
      "[INFO] tello.py - 455 - Send command (no response expected): 'rc -10 15 0 0'\n"
     ]
    },
    {
     "name": "stdout",
     "output_type": "stream",
     "text": [
      "[0, 1, 0]\n",
      "[0, 1, 0]\n",
      "[0, 1, 0]\n",
      "[0, 1, 0]\n",
      "[0, 1, 0]\n"
     ]
    },
    {
     "name": "stderr",
     "output_type": "stream",
     "text": [
      "[INFO] tello.py - 455 - Send command (no response expected): 'rc -10 15 0 0'\n",
      "[INFO] tello.py - 455 - Send command (no response expected): 'rc -10 15 0 0'\n",
      "[INFO] tello.py - 455 - Send command (no response expected): 'rc -10 15 0 0'\n",
      "[INFO] tello.py - 455 - Send command (no response expected): 'rc -10 15 0 0'\n",
      "[INFO] tello.py - 455 - Send command (no response expected): 'rc -10 15 0 0'\n"
     ]
    },
    {
     "name": "stdout",
     "output_type": "stream",
     "text": [
      "[0, 1, 0]\n",
      "[0, 1, 0]\n",
      "[0, 1, 0]\n",
      "[0, 1, 0]\n",
      "[0, 1, 0]\n"
     ]
    },
    {
     "name": "stderr",
     "output_type": "stream",
     "text": [
      "[INFO] tello.py - 455 - Send command (no response expected): 'rc -10 15 0 -25'\n",
      "[INFO] tello.py - 455 - Send command (no response expected): 'rc -10 15 0 -25'\n",
      "[INFO] tello.py - 455 - Send command (no response expected): 'rc -10 15 0 -25'\n",
      "[INFO] tello.py - 455 - Send command (no response expected): 'rc -10 15 0 -25'\n",
      "[INFO] tello.py - 455 - Send command (no response expected): 'rc -10 15 0 -25'\n"
     ]
    },
    {
     "name": "stdout",
     "output_type": "stream",
     "text": [
      "[1, 1, 0]\n",
      "[1, 1, 0]\n",
      "[1, 1, 0]\n",
      "[1, 1, 0]\n",
      "[1, 1, 0]\n"
     ]
    },
    {
     "name": "stderr",
     "output_type": "stream",
     "text": [
      "[INFO] tello.py - 455 - Send command (no response expected): 'rc -10 15 0 -25'\n",
      "[INFO] tello.py - 455 - Send command (no response expected): 'rc -10 15 0 -25'\n",
      "[INFO] tello.py - 455 - Send command (no response expected): 'rc -10 15 0 -25'\n",
      "[INFO] tello.py - 455 - Send command (no response expected): 'rc -10 15 0 -25'\n",
      "[INFO] tello.py - 455 - Send command (no response expected): 'rc -10 15 0 -25'\n"
     ]
    },
    {
     "name": "stdout",
     "output_type": "stream",
     "text": [
      "[1, 1, 0]\n",
      "[1, 1, 0]\n",
      "[1, 1, 0]\n",
      "[1, 1, 0]\n",
      "[1, 1, 0]\n"
     ]
    },
    {
     "name": "stderr",
     "output_type": "stream",
     "text": [
      "[INFO] tello.py - 455 - Send command (no response expected): 'rc -10 15 0 0'\n",
      "[INFO] tello.py - 455 - Send command (no response expected): 'rc -10 15 0 0'\n",
      "[INFO] tello.py - 455 - Send command (no response expected): 'rc -10 15 0 0'\n",
      "[INFO] tello.py - 455 - Send command (no response expected): 'rc -10 15 0 -25'\n",
      "[INFO] tello.py - 455 - Send command (no response expected): 'rc -10 15 0 -25'\n"
     ]
    },
    {
     "name": "stdout",
     "output_type": "stream",
     "text": [
      "[1, 1, 1]\n",
      "[1, 1, 1]\n",
      "[1, 1, 1]\n",
      "[1, 1, 0]\n",
      "[1, 1, 0]\n"
     ]
    },
    {
     "name": "stderr",
     "output_type": "stream",
     "text": [
      "[INFO] tello.py - 455 - Send command (no response expected): 'rc -10 15 0 -25'\n",
      "[INFO] tello.py - 455 - Send command (no response expected): 'rc -10 15 0 -25'\n",
      "[INFO] tello.py - 455 - Send command (no response expected): 'rc -10 15 0 -25'\n",
      "[INFO] tello.py - 455 - Send command (no response expected): 'rc -10 15 0 -25'\n",
      "[INFO] tello.py - 455 - Send command (no response expected): 'rc -10 15 0 -25'\n",
      "[INFO] tello.py - 455 - Send command (no response expected): 'rc -10 15 0 -25'\n"
     ]
    },
    {
     "name": "stdout",
     "output_type": "stream",
     "text": [
      "[1, 1, 0]\n",
      "[1, 1, 0]\n",
      "[1, 1, 0]\n",
      "[1, 1, 0]\n",
      "[1, 1, 0]\n",
      "[1, 1, 0]\n"
     ]
    },
    {
     "name": "stderr",
     "output_type": "stream",
     "text": [
      "[INFO] tello.py - 455 - Send command (no response expected): 'rc -10 15 0 -25'\n",
      "[INFO] tello.py - 455 - Send command (no response expected): 'rc -10 15 0 -25'\n",
      "[INFO] tello.py - 455 - Send command (no response expected): 'rc -10 15 0 -25'\n",
      "[INFO] tello.py - 455 - Send command (no response expected): 'rc -10 15 0 -25'\n",
      "[INFO] tello.py - 455 - Send command (no response expected): 'rc -10 15 0 -25'\n"
     ]
    },
    {
     "name": "stdout",
     "output_type": "stream",
     "text": [
      "[1, 1, 0]\n",
      "[1, 1, 0]\n",
      "[1, 1, 0]\n",
      "[1, 1, 0]\n",
      "[1, 1, 0]\n"
     ]
    },
    {
     "name": "stderr",
     "output_type": "stream",
     "text": [
      "[INFO] tello.py - 455 - Send command (no response expected): 'rc -10 15 0 -25'\n",
      "[INFO] tello.py - 455 - Send command (no response expected): 'rc -10 15 0 -25'\n",
      "[INFO] tello.py - 455 - Send command (no response expected): 'rc -10 15 0 -25'\n",
      "[INFO] tello.py - 455 - Send command (no response expected): 'rc -10 15 0 -25'\n",
      "[INFO] tello.py - 455 - Send command (no response expected): 'rc -10 15 0 -25'\n",
      "[INFO] tello.py - 455 - Send command (no response expected): 'rc -10 15 0 -25'\n"
     ]
    },
    {
     "name": "stdout",
     "output_type": "stream",
     "text": [
      "[1, 1, 0]\n",
      "[1, 1, 0]\n",
      "[1, 1, 0]\n",
      "[1, 1, 0]\n",
      "[1, 1, 0]\n",
      "[1, 1, 0]\n"
     ]
    },
    {
     "name": "stderr",
     "output_type": "stream",
     "text": [
      "[INFO] tello.py - 455 - Send command (no response expected): 'rc -10 15 0 -25'\n",
      "[INFO] tello.py - 455 - Send command (no response expected): 'rc -10 15 0 -25'\n",
      "[INFO] tello.py - 455 - Send command (no response expected): 'rc -10 15 0 -25'\n",
      "[INFO] tello.py - 455 - Send command (no response expected): 'rc -10 15 0 -25'\n",
      "[INFO] tello.py - 455 - Send command (no response expected): 'rc -10 15 0 -25'\n"
     ]
    },
    {
     "name": "stdout",
     "output_type": "stream",
     "text": [
      "[1, 1, 0]\n",
      "[1, 1, 0]\n",
      "[1, 1, 0]\n",
      "[1, 1, 0]\n",
      "[1, 1, 0]\n"
     ]
    },
    {
     "name": "stderr",
     "output_type": "stream",
     "text": [
      "[INFO] tello.py - 455 - Send command (no response expected): 'rc -10 15 0 -25'\n",
      "[INFO] tello.py - 455 - Send command (no response expected): 'rc -10 15 0 -25'\n",
      "[INFO] tello.py - 455 - Send command (no response expected): 'rc -10 15 0 -25'\n",
      "[INFO] tello.py - 455 - Send command (no response expected): 'rc -10 15 0 -25'\n",
      "[INFO] tello.py - 455 - Send command (no response expected): 'rc -10 15 0 -25'\n"
     ]
    },
    {
     "name": "stdout",
     "output_type": "stream",
     "text": [
      "[1, 1, 0]\n",
      "[1, 1, 0]\n",
      "[1, 1, 0]\n",
      "[1, 1, 0]\n",
      "[1, 1, 0]\n"
     ]
    },
    {
     "name": "stderr",
     "output_type": "stream",
     "text": [
      "[INFO] tello.py - 455 - Send command (no response expected): 'rc -10 15 0 -25'\n",
      "[INFO] tello.py - 455 - Send command (no response expected): 'rc -10 15 0 -25'\n",
      "[INFO] tello.py - 455 - Send command (no response expected): 'rc -10 15 0 -25'\n",
      "[INFO] tello.py - 455 - Send command (no response expected): 'rc -10 15 0 -25'\n",
      "[INFO] tello.py - 455 - Send command (no response expected): 'rc -10 15 0 -25'\n"
     ]
    },
    {
     "name": "stdout",
     "output_type": "stream",
     "text": [
      "[1, 1, 0]\n",
      "[1, 1, 0]\n",
      "[1, 1, 0]\n",
      "[1, 1, 0]\n",
      "[1, 1, 0]\n"
     ]
    },
    {
     "name": "stderr",
     "output_type": "stream",
     "text": [
      "[INFO] tello.py - 455 - Send command (no response expected): 'rc -10 15 0 -25'\n",
      "[INFO] tello.py - 455 - Send command (no response expected): 'rc -10 15 0 -25'\n",
      "[INFO] tello.py - 455 - Send command (no response expected): 'rc -10 15 0 -25'\n",
      "[INFO] tello.py - 455 - Send command (no response expected): 'rc -10 15 0 -25'\n",
      "[INFO] tello.py - 455 - Send command (no response expected): 'rc -10 15 0 -25'\n"
     ]
    },
    {
     "name": "stdout",
     "output_type": "stream",
     "text": [
      "[1, 1, 0]\n",
      "[1, 1, 0]\n",
      "[1, 1, 0]\n",
      "[1, 1, 0]\n",
      "[1, 1, 0]\n"
     ]
    },
    {
     "name": "stderr",
     "output_type": "stream",
     "text": [
      "[INFO] tello.py - 455 - Send command (no response expected): 'rc -10 15 0 -25'\n",
      "[INFO] tello.py - 455 - Send command (no response expected): 'rc -10 15 0 -25'\n",
      "[INFO] tello.py - 455 - Send command (no response expected): 'rc -10 15 0 0'\n",
      "[INFO] tello.py - 455 - Send command (no response expected): 'rc -10 15 0 0'\n",
      "[INFO] tello.py - 455 - Send command (no response expected): 'rc -9 15 0 0'\n"
     ]
    },
    {
     "name": "stdout",
     "output_type": "stream",
     "text": [
      "[1, 1, 0]\n",
      "[1, 1, 0]\n",
      "[0, 1, 0]\n",
      "[0, 1, 0]\n",
      "[0, 1, 0]\n"
     ]
    },
    {
     "name": "stderr",
     "output_type": "stream",
     "text": [
      "[INFO] tello.py - 455 - Send command (no response expected): 'rc -5 15 0 0'\n",
      "[INFO] tello.py - 455 - Send command (no response expected): 'rc -4 15 0 0'\n",
      "[INFO] tello.py - 455 - Send command (no response expected): 'rc 0 15 0 0'\n",
      "[INFO] tello.py - 455 - Send command (no response expected): 'rc 2 15 0 25'\n",
      "[INFO] tello.py - 455 - Send command (no response expected): 'rc 4 15 0 25'\n"
     ]
    },
    {
     "name": "stdout",
     "output_type": "stream",
     "text": [
      "[0, 1, 0]\n",
      "[0, 1, 0]\n",
      "[0, 1, 0]\n",
      "[0, 1, 1]\n",
      "[0, 1, 1]\n"
     ]
    },
    {
     "name": "stderr",
     "output_type": "stream",
     "text": [
      "[INFO] tello.py - 455 - Send command (no response expected): 'rc 0 15 0 25'\n",
      "[INFO] tello.py - 455 - Send command (no response expected): 'rc 0 15 0 25'\n",
      "[INFO] tello.py - 455 - Send command (no response expected): 'rc 0 15 0 25'\n",
      "[INFO] tello.py - 455 - Send command (no response expected): 'rc 2 15 0 25'\n",
      "[INFO] tello.py - 455 - Send command (no response expected): 'rc 2 15 0 25'\n"
     ]
    },
    {
     "name": "stdout",
     "output_type": "stream",
     "text": [
      "[0, 1, 1]\n",
      "[0, 1, 1]\n",
      "[0, 1, 1]\n",
      "[0, 1, 1]\n",
      "[0, 1, 1]\n"
     ]
    },
    {
     "name": "stderr",
     "output_type": "stream",
     "text": [
      "[INFO] tello.py - 455 - Send command (no response expected): 'rc 2 15 0 25'\n",
      "[INFO] tello.py - 455 - Send command (no response expected): 'rc 3 15 0 25'\n",
      "[INFO] tello.py - 455 - Send command (no response expected): 'rc 3 15 0 25'\n",
      "[INFO] tello.py - 455 - Send command (no response expected): 'rc 3 15 0 25'\n",
      "[INFO] tello.py - 455 - Send command (no response expected): 'rc 2 15 0 25'\n"
     ]
    },
    {
     "name": "stdout",
     "output_type": "stream",
     "text": [
      "[0, 1, 1]\n",
      "[0, 1, 1]\n",
      "[0, 1, 1]\n",
      "[0, 1, 1]\n",
      "[0, 1, 1]\n"
     ]
    },
    {
     "name": "stderr",
     "output_type": "stream",
     "text": [
      "[INFO] tello.py - 455 - Send command (no response expected): 'rc 3 15 0 25'\n",
      "[INFO] tello.py - 455 - Send command (no response expected): 'rc 3 15 0 25'\n",
      "[INFO] tello.py - 455 - Send command (no response expected): 'rc 2 15 0 25'\n",
      "[INFO] tello.py - 455 - Send command (no response expected): 'rc 0 15 0 25'\n",
      "[INFO] tello.py - 455 - Send command (no response expected): 'rc -10 15 0 25'\n"
     ]
    },
    {
     "name": "stdout",
     "output_type": "stream",
     "text": [
      "[0, 1, 1]\n",
      "[0, 1, 1]\n",
      "[0, 1, 1]\n",
      "[0, 1, 1]\n",
      "[0, 1, 1]\n"
     ]
    },
    {
     "name": "stderr",
     "output_type": "stream",
     "text": [
      "[INFO] tello.py - 455 - Send command (no response expected): 'rc -10 15 0 25'\n",
      "[INFO] tello.py - 455 - Send command (no response expected): 'rc -10 15 0 25'\n",
      "[INFO] tello.py - 455 - Send command (no response expected): 'rc -10 15 0 -25'\n",
      "[INFO] tello.py - 455 - Send command (no response expected): 'rc -10 15 0 -25'\n",
      "[INFO] tello.py - 455 - Send command (no response expected): 'rc -10 15 0 -25'\n"
     ]
    },
    {
     "name": "stdout",
     "output_type": "stream",
     "text": [
      "[0, 1, 1]\n",
      "[0, 1, 1]\n",
      "[1, 1, 0]\n",
      "[1, 1, 0]\n",
      "[1, 1, 0]\n"
     ]
    },
    {
     "name": "stderr",
     "output_type": "stream",
     "text": [
      "[INFO] tello.py - 455 - Send command (no response expected): 'rc -10 15 0 -25'\n",
      "[INFO] tello.py - 455 - Send command (no response expected): 'rc -10 15 0 -25'\n",
      "[INFO] tello.py - 455 - Send command (no response expected): 'rc -10 15 0 -25'\n",
      "[INFO] tello.py - 455 - Send command (no response expected): 'rc -10 15 0 -25'\n",
      "[INFO] tello.py - 455 - Send command (no response expected): 'rc -10 15 0 -25'\n"
     ]
    },
    {
     "name": "stdout",
     "output_type": "stream",
     "text": [
      "[1, 1, 0]\n",
      "[1, 1, 0]\n",
      "[1, 1, 0]\n",
      "[1, 1, 0]\n",
      "[1, 1, 0]\n"
     ]
    },
    {
     "name": "stderr",
     "output_type": "stream",
     "text": [
      "[INFO] tello.py - 455 - Send command (no response expected): 'rc -10 15 0 -25'\n",
      "[INFO] tello.py - 455 - Send command (no response expected): 'rc -10 15 0 -25'\n",
      "[INFO] tello.py - 455 - Send command (no response expected): 'rc -10 15 0 -25'\n",
      "[INFO] tello.py - 455 - Send command (no response expected): 'rc -10 15 0 -25'\n",
      "[INFO] tello.py - 455 - Send command (no response expected): 'rc -10 15 0 -25'\n"
     ]
    },
    {
     "name": "stdout",
     "output_type": "stream",
     "text": [
      "[1, 1, 0]\n",
      "[1, 1, 0]\n",
      "[1, 1, 0]\n",
      "[1, 1, 0]\n",
      "[1, 1, 0]\n"
     ]
    },
    {
     "name": "stderr",
     "output_type": "stream",
     "text": [
      "[INFO] tello.py - 455 - Send command (no response expected): 'rc -10 15 0 -25'\n",
      "[INFO] tello.py - 455 - Send command (no response expected): 'rc -10 15 0 -25'\n",
      "[INFO] tello.py - 455 - Send command (no response expected): 'rc -10 15 0 -25'\n",
      "[INFO] tello.py - 455 - Send command (no response expected): 'rc -10 15 0 -25'\n",
      "[INFO] tello.py - 455 - Send command (no response expected): 'rc -10 15 0 -25'\n"
     ]
    },
    {
     "name": "stdout",
     "output_type": "stream",
     "text": [
      "[1, 1, 0]\n",
      "[1, 1, 0]\n",
      "[1, 1, 0]\n",
      "[1, 1, 0]\n",
      "[1, 1, 0]\n"
     ]
    },
    {
     "name": "stderr",
     "output_type": "stream",
     "text": [
      "[INFO] tello.py - 455 - Send command (no response expected): 'rc -10 15 0 -25'\n",
      "[INFO] tello.py - 455 - Send command (no response expected): 'rc -10 15 0 -25'\n",
      "[INFO] tello.py - 455 - Send command (no response expected): 'rc -10 15 0 -25'\n",
      "[INFO] tello.py - 455 - Send command (no response expected): 'rc -10 15 0 -25'\n",
      "[INFO] tello.py - 455 - Send command (no response expected): 'rc -10 15 0 -25'\n"
     ]
    },
    {
     "name": "stdout",
     "output_type": "stream",
     "text": [
      "[1, 1, 0]\n",
      "[1, 1, 0]\n",
      "[1, 1, 0]\n",
      "[1, 1, 0]\n",
      "[1, 1, 0]\n"
     ]
    },
    {
     "name": "stderr",
     "output_type": "stream",
     "text": [
      "[INFO] tello.py - 455 - Send command (no response expected): 'rc -10 15 0 -25'\n",
      "[INFO] tello.py - 455 - Send command (no response expected): 'rc -10 15 0 -25'\n",
      "[INFO] tello.py - 455 - Send command (no response expected): 'rc -10 15 0 -25'\n",
      "[INFO] tello.py - 455 - Send command (no response expected): 'rc -10 15 0 -25'\n",
      "[INFO] tello.py - 455 - Send command (no response expected): 'rc -10 15 0 -25'\n"
     ]
    },
    {
     "name": "stdout",
     "output_type": "stream",
     "text": [
      "[1, 1, 0]\n",
      "[1, 1, 0]\n",
      "[1, 1, 0]\n",
      "[1, 1, 0]\n",
      "[1, 1, 0]\n"
     ]
    },
    {
     "name": "stderr",
     "output_type": "stream",
     "text": [
      "[INFO] tello.py - 455 - Send command (no response expected): 'rc -10 15 0 -25'\n",
      "[INFO] tello.py - 455 - Send command (no response expected): 'rc -10 15 0 -25'\n",
      "[INFO] tello.py - 455 - Send command (no response expected): 'rc -10 15 0 -25'\n",
      "[INFO] tello.py - 455 - Send command (no response expected): 'rc -10 15 0 -25'\n",
      "[INFO] tello.py - 455 - Send command (no response expected): 'rc -10 15 0 -25'\n"
     ]
    },
    {
     "name": "stdout",
     "output_type": "stream",
     "text": [
      "[1, 1, 0]\n",
      "[1, 1, 0]\n",
      "[1, 1, 0]\n",
      "[1, 1, 0]\n",
      "[1, 1, 0]\n"
     ]
    },
    {
     "name": "stderr",
     "output_type": "stream",
     "text": [
      "[INFO] tello.py - 455 - Send command (no response expected): 'rc -10 15 0 -25'\n",
      "[INFO] tello.py - 455 - Send command (no response expected): 'rc -10 15 0 -25'\n",
      "[INFO] tello.py - 455 - Send command (no response expected): 'rc -10 15 0 -25'\n",
      "[INFO] tello.py - 455 - Send command (no response expected): 'rc -10 15 0 -25'\n",
      "[INFO] tello.py - 455 - Send command (no response expected): 'rc -10 15 0 -25'\n"
     ]
    },
    {
     "name": "stdout",
     "output_type": "stream",
     "text": [
      "[1, 1, 0]\n",
      "[1, 1, 0]\n",
      "[1, 1, 0]\n",
      "[1, 1, 0]\n",
      "[1, 1, 0]\n"
     ]
    },
    {
     "name": "stderr",
     "output_type": "stream",
     "text": [
      "[INFO] tello.py - 455 - Send command (no response expected): 'rc -10 15 0 -25'\n",
      "[INFO] tello.py - 455 - Send command (no response expected): 'rc -10 15 0 -25'\n",
      "[INFO] tello.py - 455 - Send command (no response expected): 'rc -10 15 0 -25'\n",
      "[INFO] tello.py - 455 - Send command (no response expected): 'rc -10 15 0 -25'\n",
      "[INFO] tello.py - 455 - Send command (no response expected): 'rc -10 15 0 -25'\n"
     ]
    },
    {
     "name": "stdout",
     "output_type": "stream",
     "text": [
      "[1, 1, 0]\n",
      "[1, 1, 0]\n",
      "[1, 1, 0]\n",
      "[1, 1, 0]\n",
      "[1, 1, 0]\n"
     ]
    },
    {
     "name": "stderr",
     "output_type": "stream",
     "text": [
      "[INFO] tello.py - 455 - Send command (no response expected): 'rc -10 15 0 -25'\n",
      "[INFO] tello.py - 455 - Send command (no response expected): 'rc -10 15 0 -25'\n",
      "[INFO] tello.py - 455 - Send command (no response expected): 'rc -10 15 0 -25'\n",
      "[INFO] tello.py - 455 - Send command (no response expected): 'rc -10 15 0 -25'\n"
     ]
    },
    {
     "name": "stdout",
     "output_type": "stream",
     "text": [
      "[1, 1, 0]\n",
      "[1, 1, 0]\n",
      "[1, 1, 0]\n",
      "[1, 1, 0]\n"
     ]
    },
    {
     "name": "stderr",
     "output_type": "stream",
     "text": [
      "[INFO] tello.py - 455 - Send command (no response expected): 'rc -10 15 0 -25'\n",
      "[INFO] tello.py - 455 - Send command (no response expected): 'rc -10 15 0 0'\n",
      "[INFO] tello.py - 455 - Send command (no response expected): 'rc -10 15 0 0'\n",
      "[INFO] tello.py - 455 - Send command (no response expected): 'rc -10 15 0 0'\n",
      "[INFO] tello.py - 455 - Send command (no response expected): 'rc -10 15 0 -25'\n"
     ]
    },
    {
     "name": "stdout",
     "output_type": "stream",
     "text": [
      "[1, 1, 0]\n",
      "[1, 1, 1]\n",
      "[1, 1, 1]\n",
      "[1, 1, 1]\n",
      "[1, 1, 0]\n"
     ]
    },
    {
     "name": "stderr",
     "output_type": "stream",
     "text": [
      "[INFO] tello.py - 455 - Send command (no response expected): 'rc -10 15 0 -25'\n",
      "[INFO] tello.py - 455 - Send command (no response expected): 'rc -10 15 0 -25'\n",
      "[INFO] tello.py - 455 - Send command (no response expected): 'rc -10 15 0 -25'\n",
      "[INFO] tello.py - 455 - Send command (no response expected): 'rc -10 15 0 -25'\n",
      "[INFO] tello.py - 455 - Send command (no response expected): 'rc -10 15 0 -25'\n",
      "[INFO] tello.py - 455 - Send command (no response expected): 'rc -10 15 0 -25'\n"
     ]
    },
    {
     "name": "stdout",
     "output_type": "stream",
     "text": [
      "[1, 1, 0]\n",
      "[1, 1, 0]\n",
      "[1, 1, 0]\n",
      "[1, 1, 0]\n",
      "[1, 1, 0]\n",
      "[1, 1, 0]\n"
     ]
    },
    {
     "name": "stderr",
     "output_type": "stream",
     "text": [
      "[INFO] tello.py - 455 - Send command (no response expected): 'rc -10 15 0 -25'\n",
      "[INFO] tello.py - 455 - Send command (no response expected): 'rc -10 15 0 -25'\n",
      "[INFO] tello.py - 455 - Send command (no response expected): 'rc -10 15 0 -25'\n",
      "[INFO] tello.py - 455 - Send command (no response expected): 'rc -10 15 0 0'\n",
      "[INFO] tello.py - 455 - Send command (no response expected): 'rc -10 15 0 0'\n"
     ]
    },
    {
     "name": "stdout",
     "output_type": "stream",
     "text": [
      "[1, 1, 0]\n",
      "[1, 1, 0]\n",
      "[1, 1, 0]\n",
      "[1, 1, 1]\n",
      "[1, 1, 1]\n"
     ]
    },
    {
     "name": "stderr",
     "output_type": "stream",
     "text": [
      "[INFO] tello.py - 455 - Send command (no response expected): 'rc -10 15 0 0'\n",
      "[INFO] tello.py - 455 - Send command (no response expected): 'rc -10 15 0 0'\n",
      "[INFO] tello.py - 455 - Send command (no response expected): 'rc -8 15 0 0'\n",
      "[INFO] tello.py - 455 - Send command (no response expected): 'rc -8 15 0 0'\n",
      "[INFO] tello.py - 455 - Send command (no response expected): 'rc -8 15 0 0'\n"
     ]
    },
    {
     "name": "stdout",
     "output_type": "stream",
     "text": [
      "[1, 1, 1]\n",
      "[1, 1, 1]\n",
      "[1, 1, 1]\n",
      "[1, 1, 1]\n",
      "[1, 1, 1]\n"
     ]
    },
    {
     "name": "stderr",
     "output_type": "stream",
     "text": [
      "[INFO] tello.py - 455 - Send command (no response expected): 'rc -4 15 0 0'\n",
      "[INFO] tello.py - 455 - Send command (no response expected): 'rc -4 15 0 0'\n",
      "[INFO] tello.py - 455 - Send command (no response expected): 'rc -4 15 0 0'\n",
      "[INFO] tello.py - 455 - Send command (no response expected): 'rc -6 15 0 0'\n"
     ]
    },
    {
     "name": "stdout",
     "output_type": "stream",
     "text": [
      "[1, 1, 1]\n",
      "[1, 1, 1]\n",
      "[1, 1, 1]\n",
      "[1, 1, 1]\n"
     ]
    },
    {
     "name": "stderr",
     "output_type": "stream",
     "text": [
      "[INFO] tello.py - 455 - Send command (no response expected): 'rc -6 15 0 0'\n",
      "[INFO] tello.py - 455 - Send command (no response expected): 'rc -6 15 0 0'\n",
      "[INFO] tello.py - 455 - Send command (no response expected): 'rc -8 15 0 0'\n",
      "[h264 @ 0x7f8e63316400] left block unavailable for requested intra mode\n",
      "[h264 @ 0x7f8e63316400] error while decoding MB 0 33, bytestream 432\n",
      "[INFO] tello.py - 455 - Send command (no response expected): 'rc -7 15 0 0'\n",
      "[INFO] tello.py - 455 - Send command (no response expected): 'rc -7 15 0 0'\n"
     ]
    },
    {
     "name": "stdout",
     "output_type": "stream",
     "text": [
      "[1, 1, 1]\n",
      "[1, 1, 1]\n",
      "[1, 1, 1]\n",
      "[1, 1, 1]\n",
      "[1, 1, 1]\n"
     ]
    },
    {
     "name": "stderr",
     "output_type": "stream",
     "text": [
      "[INFO] tello.py - 455 - Send command (no response expected): 'rc -7 15 0 0'\n",
      "[INFO] tello.py - 455 - Send command (no response expected): 'rc -7 15 0 0'\n",
      "[INFO] tello.py - 455 - Send command (no response expected): 'rc -6 15 0 0'\n",
      "[INFO] tello.py - 455 - Send command (no response expected): 'rc -6 15 0 0'\n",
      "[INFO] tello.py - 455 - Send command (no response expected): 'rc -6 15 0 0'\n"
     ]
    },
    {
     "name": "stdout",
     "output_type": "stream",
     "text": [
      "[1, 1, 1]\n",
      "[1, 1, 1]\n",
      "[1, 1, 1]\n",
      "[1, 1, 1]\n",
      "[1, 1, 1]\n"
     ]
    },
    {
     "name": "stderr",
     "output_type": "stream",
     "text": [
      "[INFO] tello.py - 455 - Send command (no response expected): 'rc -3 15 0 0'\n",
      "[INFO] tello.py - 455 - Send command (no response expected): 'rc -4 15 0 0'\n",
      "[INFO] tello.py - 455 - Send command (no response expected): 'rc -4 15 0 0'\n",
      "[INFO] tello.py - 455 - Send command (no response expected): 'rc -3 15 0 0'\n",
      "[INFO] tello.py - 455 - Send command (no response expected): 'rc -3 15 0 0'\n"
     ]
    },
    {
     "name": "stdout",
     "output_type": "stream",
     "text": [
      "[1, 1, 1]\n",
      "[1, 1, 1]\n",
      "[1, 1, 1]\n",
      "[1, 1, 1]\n",
      "[1, 1, 1]\n"
     ]
    },
    {
     "name": "stderr",
     "output_type": "stream",
     "text": [
      "[INFO] tello.py - 455 - Send command (no response expected): 'rc -2 15 0 25'\n",
      "[INFO] tello.py - 455 - Send command (no response expected): 'rc -4 15 0 0'\n",
      "[INFO] tello.py - 455 - Send command (no response expected): 'rc -4 15 0 0'\n",
      "[INFO] tello.py - 455 - Send command (no response expected): 'rc -4 15 0 0'\n",
      "[INFO] tello.py - 455 - Send command (no response expected): 'rc -4 15 0 0'\n"
     ]
    },
    {
     "name": "stdout",
     "output_type": "stream",
     "text": [
      "[0, 1, 1]\n",
      "[0, 1, 0]\n",
      "[0, 1, 0]\n",
      "[0, 1, 0]\n",
      "[0, 1, 0]\n"
     ]
    },
    {
     "name": "stderr",
     "output_type": "stream",
     "text": [
      "[INFO] tello.py - 455 - Send command (no response expected): 'rc -3 15 0 0'\n",
      "[INFO] tello.py - 455 - Send command (no response expected): 'rc 3 15 0 0'\n",
      "[INFO] tello.py - 455 - Send command (no response expected): 'rc 3 15 0 0'\n",
      "[INFO] tello.py - 455 - Send command (no response expected): 'rc 3 15 0 0'\n",
      "[INFO] tello.py - 455 - Send command (no response expected): 'rc 6 15 0 0'\n"
     ]
    },
    {
     "name": "stdout",
     "output_type": "stream",
     "text": [
      "[0, 1, 0]\n",
      "[0, 1, 0]\n",
      "[0, 1, 0]\n",
      "[0, 1, 0]\n",
      "[0, 1, 0]\n"
     ]
    },
    {
     "name": "stderr",
     "output_type": "stream",
     "text": [
      "[INFO] tello.py - 455 - Send command (no response expected): 'rc 6 15 0 0'\n",
      "[INFO] tello.py - 455 - Send command (no response expected): 'rc 6 15 0 0'\n",
      "[INFO] tello.py - 455 - Send command (no response expected): 'rc 6 15 0 0'\n",
      "[INFO] tello.py - 455 - Send command (no response expected): 'rc -3 15 0 0'\n",
      "[INFO] tello.py - 455 - Send command (no response expected): 'rc -3 15 0 0'\n"
     ]
    },
    {
     "name": "stdout",
     "output_type": "stream",
     "text": [
      "[0, 1, 0]\n",
      "[0, 1, 0]\n",
      "[0, 1, 0]\n",
      "[0, 1, 0]\n",
      "[0, 1, 0]\n"
     ]
    },
    {
     "name": "stderr",
     "output_type": "stream",
     "text": [
      "[INFO] tello.py - 455 - Send command (no response expected): 'rc -3 15 0 0'\n",
      "[INFO] tello.py - 455 - Send command (no response expected): 'rc 5 15 0 0'\n",
      "[INFO] tello.py - 455 - Send command (no response expected): 'rc 5 15 0 0'\n",
      "[INFO] tello.py - 455 - Send command (no response expected): 'rc 5 15 0 0'\n",
      "[INFO] tello.py - 455 - Send command (no response expected): 'rc 5 15 0 0'\n"
     ]
    },
    {
     "name": "stdout",
     "output_type": "stream",
     "text": [
      "[0, 1, 0]\n",
      "[0, 1, 0]\n",
      "[0, 1, 0]\n",
      "[0, 1, 0]\n",
      "[0, 1, 0]\n"
     ]
    },
    {
     "name": "stderr",
     "output_type": "stream",
     "text": [
      "[INFO] tello.py - 455 - Send command (no response expected): 'rc 7 15 0 0'\n",
      "[INFO] tello.py - 455 - Send command (no response expected): 'rc 7 15 0 0'\n",
      "[INFO] tello.py - 455 - Send command (no response expected): 'rc 7 15 0 0'\n",
      "[INFO] tello.py - 455 - Send command (no response expected): 'rc 7 15 0 0'\n"
     ]
    },
    {
     "name": "stdout",
     "output_type": "stream",
     "text": [
      "[0, 1, 0]\n",
      "[0, 1, 0]\n",
      "[0, 1, 0]\n",
      "[0, 1, 0]\n"
     ]
    },
    {
     "name": "stderr",
     "output_type": "stream",
     "text": [
      "[INFO] tello.py - 455 - Send command (no response expected): 'rc 7 15 0 0'\n",
      "[INFO] tello.py - 455 - Send command (no response expected): 'rc 7 15 0 0'\n",
      "[INFO] tello.py - 455 - Send command (no response expected): 'rc 10 15 0 0'\n",
      "[INFO] tello.py - 455 - Send command (no response expected): 'rc 10 15 0 0'\n",
      "[INFO] tello.py - 455 - Send command (no response expected): 'rc 10 15 0 0'\n"
     ]
    },
    {
     "name": "stdout",
     "output_type": "stream",
     "text": [
      "[0, 1, 0]\n",
      "[0, 1, 0]\n",
      "[0, 1, 0]\n",
      "[0, 1, 0]\n",
      "[0, 1, 0]\n"
     ]
    },
    {
     "name": "stderr",
     "output_type": "stream",
     "text": [
      "[INFO] tello.py - 455 - Send command (no response expected): 'rc 10 15 0 0'\n",
      "[INFO] tello.py - 455 - Send command (no response expected): 'rc 10 15 0 0'\n",
      "[INFO] tello.py - 455 - Send command (no response expected): 'rc 10 15 0 0'\n",
      "[INFO] tello.py - 455 - Send command (no response expected): 'rc 10 15 0 0'\n",
      "[INFO] tello.py - 455 - Send command (no response expected): 'rc 10 15 0 0'\n"
     ]
    },
    {
     "name": "stdout",
     "output_type": "stream",
     "text": [
      "[0, 0, 0]\n",
      "[0, 0, 0]\n",
      "[0, 0, 0]\n",
      "[0, 0, 0]\n",
      "[0, 0, 0]\n"
     ]
    },
    {
     "name": "stderr",
     "output_type": "stream",
     "text": [
      "[INFO] tello.py - 455 - Send command (no response expected): 'rc 10 15 0 0'\n",
      "[INFO] tello.py - 455 - Send command (no response expected): 'rc 10 15 0 0'\n",
      "[INFO] tello.py - 455 - Send command (no response expected): 'rc 10 15 0 0'\n",
      "[INFO] tello.py - 455 - Send command (no response expected): 'rc 10 15 0 0'\n",
      "[INFO] tello.py - 455 - Send command (no response expected): 'rc 10 15 0 0'\n"
     ]
    },
    {
     "name": "stdout",
     "output_type": "stream",
     "text": [
      "[0, 0, 0]\n",
      "[0, 0, 0]\n",
      "[0, 0, 0]\n",
      "[0, 0, 0]\n",
      "[0, 0, 0]\n"
     ]
    },
    {
     "name": "stderr",
     "output_type": "stream",
     "text": [
      "[INFO] tello.py - 455 - Send command (no response expected): 'rc 10 15 0 0'\n",
      "[INFO] tello.py - 455 - Send command (no response expected): 'rc 10 15 0 0'\n",
      "[INFO] tello.py - 455 - Send command (no response expected): 'rc 10 15 0 0'\n",
      "[INFO] tello.py - 455 - Send command (no response expected): 'rc 10 15 0 0'\n"
     ]
    },
    {
     "name": "stdout",
     "output_type": "stream",
     "text": [
      "[0, 0, 0]\n",
      "[0, 0, 0]\n",
      "[0, 0, 0]\n",
      "[0, 0, 0]\n"
     ]
    },
    {
     "name": "stderr",
     "output_type": "stream",
     "text": [
      "[INFO] tello.py - 455 - Send command (no response expected): 'rc 10 15 0 0'\n",
      "[INFO] tello.py - 455 - Send command (no response expected): 'rc 10 15 0 0'\n",
      "[INFO] tello.py - 455 - Send command (no response expected): 'rc 10 15 0 0'\n",
      "[h264 @ 0x7f8e63309600] left block unavailable for requested intra mode\n",
      "[h264 @ 0x7f8e63309600] error while decoding MB 0 15, bytestream 2957\n",
      "[INFO] tello.py - 455 - Send command (no response expected): 'rc 10 15 0 0'\n",
      "[INFO] tello.py - 455 - Send command (no response expected): 'rc 10 15 0 0'\n"
     ]
    },
    {
     "name": "stdout",
     "output_type": "stream",
     "text": [
      "[0, 0, 0]\n",
      "[0, 0, 0]\n",
      "[0, 0, 0]\n",
      "[0, 0, 0]\n",
      "[0, 0, 0]\n"
     ]
    },
    {
     "name": "stderr",
     "output_type": "stream",
     "text": [
      "[INFO] tello.py - 455 - Send command (no response expected): 'rc 10 15 0 0'\n",
      "[INFO] tello.py - 455 - Send command (no response expected): 'rc 10 15 0 0'\n",
      "[INFO] tello.py - 455 - Send command (no response expected): 'rc 10 15 0 0'\n",
      "[INFO] tello.py - 455 - Send command (no response expected): 'rc 10 15 0 0'\n",
      "[INFO] tello.py - 455 - Send command (no response expected): 'rc 10 15 0 0'\n"
     ]
    },
    {
     "name": "stdout",
     "output_type": "stream",
     "text": [
      "[0, 0, 0]\n",
      "[0, 0, 0]\n",
      "[0, 0, 0]\n",
      "[0, 0, 0]\n",
      "[0, 0, 0]\n"
     ]
    },
    {
     "name": "stderr",
     "output_type": "stream",
     "text": [
      "[INFO] tello.py - 455 - Send command (no response expected): 'rc 10 15 0 0'\n",
      "[INFO] tello.py - 455 - Send command (no response expected): 'rc 10 15 0 0'\n",
      "[INFO] tello.py - 455 - Send command (no response expected): 'rc 10 15 0 0'\n",
      "[INFO] tello.py - 455 - Send command (no response expected): 'rc 10 15 0 0'\n",
      "[INFO] tello.py - 455 - Send command (no response expected): 'rc 10 15 0 0'\n"
     ]
    },
    {
     "name": "stdout",
     "output_type": "stream",
     "text": [
      "[0, 0, 0]\n",
      "[0, 0, 0]\n",
      "[0, 0, 0]\n",
      "[0, 0, 0]\n",
      "[0, 0, 0]\n"
     ]
    },
    {
     "name": "stderr",
     "output_type": "stream",
     "text": [
      "[INFO] tello.py - 455 - Send command (no response expected): 'rc 10 15 0 0'\n",
      "[INFO] tello.py - 455 - Send command (no response expected): 'rc 10 15 0 0'\n",
      "[INFO] tello.py - 455 - Send command (no response expected): 'rc 0 15 0 0'\n",
      "[INFO] tello.py - 455 - Send command (no response expected): 'rc 0 15 0 0'\n",
      "[INFO] tello.py - 455 - Send command (no response expected): 'rc 10 15 0 0'\n"
     ]
    },
    {
     "name": "stdout",
     "output_type": "stream",
     "text": [
      "[0, 0, 0]\n",
      "[0, 0, 0]\n",
      "[0, 0, 0]\n",
      "[0, 0, 0]\n",
      "[0, 0, 0]\n"
     ]
    },
    {
     "name": "stderr",
     "output_type": "stream",
     "text": [
      "[INFO] tello.py - 455 - Send command (no response expected): 'rc 10 15 0 0'\n",
      "[INFO] tello.py - 455 - Send command (no response expected): 'rc 10 15 0 0'\n",
      "[INFO] tello.py - 455 - Send command (no response expected): 'rc 0 15 0 0'\n",
      "[INFO] tello.py - 455 - Send command (no response expected): 'rc 0 15 0 0'\n",
      "[INFO] tello.py - 455 - Send command (no response expected): 'rc 0 15 0 0'\n"
     ]
    },
    {
     "name": "stdout",
     "output_type": "stream",
     "text": [
      "[0, 0, 0]\n",
      "[0, 0, 0]\n",
      "[0, 0, 0]\n",
      "[0, 0, 0]\n",
      "[0, 0, 0]\n"
     ]
    },
    {
     "name": "stderr",
     "output_type": "stream",
     "text": [
      "[INFO] tello.py - 455 - Send command (no response expected): 'rc 0 15 0 0'\n",
      "[INFO] tello.py - 455 - Send command (no response expected): 'rc 0 15 0 0'\n",
      "[INFO] tello.py - 455 - Send command (no response expected): 'rc 0 15 0 0'\n",
      "[INFO] tello.py - 455 - Send command (no response expected): 'rc 0 15 0 0'\n",
      "[INFO] tello.py - 455 - Send command (no response expected): 'rc 0 15 0 0'\n"
     ]
    },
    {
     "name": "stdout",
     "output_type": "stream",
     "text": [
      "[0, 0, 0]\n",
      "[0, 0, 0]\n",
      "[0, 0, 0]\n",
      "[0, 0, 0]\n",
      "[0, 0, 0]\n"
     ]
    },
    {
     "name": "stderr",
     "output_type": "stream",
     "text": [
      "[INFO] tello.py - 455 - Send command (no response expected): 'rc 0 15 0 0'\n",
      "[INFO] tello.py - 455 - Send command (no response expected): 'rc 0 15 0 0'\n",
      "[INFO] tello.py - 455 - Send command (no response expected): 'rc 0 15 0 0'\n",
      "[INFO] tello.py - 455 - Send command (no response expected): 'rc 0 15 0 0'\n",
      "[INFO] tello.py - 455 - Send command (no response expected): 'rc 0 15 0 0'\n"
     ]
    },
    {
     "name": "stdout",
     "output_type": "stream",
     "text": [
      "[0, 0, 0]\n",
      "[0, 0, 0]\n",
      "[0, 0, 0]\n",
      "[0, 0, 0]\n",
      "[0, 0, 0]\n"
     ]
    },
    {
     "name": "stderr",
     "output_type": "stream",
     "text": [
      "[INFO] tello.py - 455 - Send command (no response expected): 'rc 0 15 0 0'\n",
      "[INFO] tello.py - 455 - Send command (no response expected): 'rc 0 15 0 0'\n",
      "[INFO] tello.py - 455 - Send command (no response expected): 'rc 0 15 0 0'\n",
      "[INFO] tello.py - 455 - Send command (no response expected): 'rc 0 15 0 0'\n",
      "[INFO] tello.py - 455 - Send command (no response expected): 'rc 0 15 0 0'\n"
     ]
    },
    {
     "name": "stdout",
     "output_type": "stream",
     "text": [
      "[0, 0, 0]\n",
      "[0, 0, 0]\n",
      "[0, 0, 0]\n",
      "[0, 0, 0]\n",
      "[0, 0, 0]\n"
     ]
    },
    {
     "name": "stderr",
     "output_type": "stream",
     "text": [
      "[INFO] tello.py - 455 - Send command (no response expected): 'rc 0 15 0 0'\n",
      "[INFO] tello.py - 455 - Send command (no response expected): 'rc -10 15 0 0'\n",
      "[INFO] tello.py - 455 - Send command (no response expected): 'rc -10 15 0 0'\n",
      "[INFO] tello.py - 455 - Send command (no response expected): 'rc -10 15 0 0'\n",
      "[INFO] tello.py - 422 - Send command: 'land'\n"
     ]
    },
    {
     "name": "stdout",
     "output_type": "stream",
     "text": [
      "[0, 0, 0]\n",
      "[0, 0, 0]\n",
      "[0, 0, 0]\n",
      "[0, 0, 0]\n"
     ]
    },
    {
     "name": "stderr",
     "output_type": "stream",
     "text": [
      "[INFO] tello.py - 446 - Response land: 'ok'\n",
      "[INFO] tello.py - 455 - Send command (no response expected): 'rc -10 15 0 0'\n",
      "[INFO] tello.py - 455 - Send command (no response expected): 'rc -10 15 0 0'\n",
      "[INFO] tello.py - 455 - Send command (no response expected): 'rc -10 15 0 0'\n",
      "[INFO] tello.py - 455 - Send command (no response expected): 'rc -10 15 0 0'\n",
      "[INFO] tello.py - 455 - Send command (no response expected): 'rc -10 15 0 0'\n",
      "[INFO] tello.py - 455 - Send command (no response expected): 'rc -10 15 0 0'\n",
      "[INFO] tello.py - 455 - Send command (no response expected): 'rc -10 15 0 0'\n"
     ]
    },
    {
     "name": "stdout",
     "output_type": "stream",
     "text": [
      "[0, 0, 0]\n",
      "[0, 0, 0]\n",
      "[0, 0, 0]\n",
      "[0, 0, 0]\n",
      "[0, 0, 0]\n",
      "[0, 0, 0]\n",
      "[0, 0, 0]\n"
     ]
    },
    {
     "name": "stderr",
     "output_type": "stream",
     "text": [
      "[INFO] tello.py - 455 - Send command (no response expected): 'rc -10 15 0 0'\n",
      "[INFO] tello.py - 455 - Send command (no response expected): 'rc -10 15 0 0'\n",
      "[INFO] tello.py - 455 - Send command (no response expected): 'rc -10 15 0 0'\n",
      "[INFO] tello.py - 455 - Send command (no response expected): 'rc -10 15 0 0'\n",
      "[INFO] tello.py - 455 - Send command (no response expected): 'rc -10 15 0 0'\n",
      "[INFO] tello.py - 455 - Send command (no response expected): 'rc -10 15 0 0'\n",
      "[INFO] tello.py - 455 - Send command (no response expected): 'rc -10 15 0 0'\n",
      "[INFO] tello.py - 455 - Send command (no response expected): 'rc -10 15 0 0'\n"
     ]
    },
    {
     "name": "stdout",
     "output_type": "stream",
     "text": [
      "[0, 0, 0]\n",
      "[0, 0, 0]\n",
      "[0, 0, 0]\n",
      "[0, 0, 0]\n",
      "[0, 0, 0]\n",
      "[0, 0, 0]\n",
      "[0, 0, 0]\n",
      "[0, 0, 0]\n"
     ]
    },
    {
     "name": "stderr",
     "output_type": "stream",
     "text": [
      "[INFO] tello.py - 455 - Send command (no response expected): 'rc -10 15 0 0'\n",
      "[INFO] tello.py - 455 - Send command (no response expected): 'rc -10 15 0 0'\n",
      "[INFO] tello.py - 455 - Send command (no response expected): 'rc -10 15 0 0'\n",
      "[INFO] tello.py - 455 - Send command (no response expected): 'rc -10 15 0 0'\n",
      "[INFO] tello.py - 455 - Send command (no response expected): 'rc -10 15 0 0'\n",
      "[INFO] tello.py - 455 - Send command (no response expected): 'rc -10 15 0 0'\n"
     ]
    },
    {
     "name": "stdout",
     "output_type": "stream",
     "text": [
      "[0, 0, 0]\n",
      "[0, 0, 0]\n",
      "[0, 0, 0]\n",
      "[0, 0, 0]\n",
      "[0, 0, 0]\n",
      "[0, 0, 0]\n"
     ]
    },
    {
     "name": "stderr",
     "output_type": "stream",
     "text": [
      "[INFO] tello.py - 455 - Send command (no response expected): 'rc -10 15 0 0'\n",
      "[INFO] tello.py - 455 - Send command (no response expected): 'rc -10 15 0 0'\n",
      "[INFO] tello.py - 455 - Send command (no response expected): 'rc -10 15 0 0'\n",
      "[INFO] tello.py - 455 - Send command (no response expected): 'rc -10 15 0 0'\n",
      "[INFO] tello.py - 455 - Send command (no response expected): 'rc -10 15 0 0'\n",
      "[INFO] tello.py - 455 - Send command (no response expected): 'rc -10 15 0 0'\n",
      "[INFO] tello.py - 455 - Send command (no response expected): 'rc -10 15 0 0'\n"
     ]
    },
    {
     "name": "stdout",
     "output_type": "stream",
     "text": [
      "[0, 0, 0]\n",
      "[0, 0, 0]\n",
      "[0, 0, 0]\n",
      "[0, 0, 0]\n",
      "[0, 0, 0]\n",
      "[0, 0, 0]\n",
      "[0, 0, 0]\n"
     ]
    },
    {
     "name": "stderr",
     "output_type": "stream",
     "text": [
      "[INFO] tello.py - 455 - Send command (no response expected): 'rc -10 15 0 0'\n",
      "[INFO] tello.py - 455 - Send command (no response expected): 'rc -10 15 0 0'\n",
      "[INFO] tello.py - 455 - Send command (no response expected): 'rc -10 15 0 0'\n",
      "[INFO] tello.py - 455 - Send command (no response expected): 'rc -10 15 0 0'\n",
      "[INFO] tello.py - 455 - Send command (no response expected): 'rc -10 15 0 0'\n",
      "[INFO] tello.py - 455 - Send command (no response expected): 'rc -10 15 0 0'\n",
      "[INFO] tello.py - 455 - Send command (no response expected): 'rc -10 15 0 0'\n"
     ]
    },
    {
     "name": "stdout",
     "output_type": "stream",
     "text": [
      "[0, 0, 0]\n",
      "[0, 0, 0]\n",
      "[0, 0, 0]\n",
      "[0, 0, 0]\n",
      "[0, 0, 0]\n",
      "[0, 0, 0]\n",
      "[0, 0, 0]\n"
     ]
    },
    {
     "name": "stderr",
     "output_type": "stream",
     "text": [
      "[INFO] tello.py - 455 - Send command (no response expected): 'rc -10 15 0 0'\n",
      "[INFO] tello.py - 455 - Send command (no response expected): 'rc -10 15 0 0'\n",
      "[INFO] tello.py - 455 - Send command (no response expected): 'rc -10 15 0 0'\n"
     ]
    }
   ],
   "source": [
    "while True:\n",
    "    get_keyboard_input()\n",
    "    img = me.get_frame_read().frame\n",
    "    img = cv2.resize(img, (width, height))\n",
    "    img = np.vsplit(img, sensors)[-1]\n",
    "\n",
    "    imgThres = thresholding(img)\n",
    "    cx = getContours(imgThres, img)  # For translation\n",
    "    senOut = getSensorOutput(imgThres, sensors)  # For rotation\n",
    "    sendCommands(senOut, cx)\n",
    "\n",
    "    cv2.imshow('Output', img)\n",
    "    cv2.imshow('Path', imgThres)\n",
    "    cv2.waitKey(1)"
   ]
  },
  {
   "cell_type": "code",
   "execution_count": null,
   "id": "7d159cb9",
   "metadata": {},
   "outputs": [],
   "source": []
  }
 ],
 "metadata": {
  "kernelspec": {
   "display_name": "Python 3 (ipykernel)",
   "language": "python",
   "name": "python3"
  },
  "language_info": {
   "codemirror_mode": {
    "name": "ipython",
    "version": 3
   },
   "file_extension": ".py",
   "mimetype": "text/x-python",
   "name": "python",
   "nbconvert_exporter": "python",
   "pygments_lexer": "ipython3",
   "version": "3.8.1"
  }
 },
 "nbformat": 4,
 "nbformat_minor": 5
}
